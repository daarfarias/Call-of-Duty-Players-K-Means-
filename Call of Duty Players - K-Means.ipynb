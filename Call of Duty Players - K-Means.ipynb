{
 "cells": [
  {
   "cell_type": "markdown",
   "id": "knowing-blade",
   "metadata": {},
   "source": [
    "# CALL OF DUTY PLAYERS (K-MEANS)"
   ]
  },
  {
   "cell_type": "markdown",
   "id": "stopped-confidentiality",
   "metadata": {},
   "source": [
    "## INTRODUÇÃO"
   ]
  },
  {
   "cell_type": "markdown",
   "id": "coastal-understanding",
   "metadata": {},
   "source": [
    ">*Combate terrestre com ação intensa. Os cenários mais fotorrealistas de sempre da série. Inclui Killstreaks e os modos multijogador preferidos dos jogadores. Personalização de armas ao pormenor. A melhor jogabilidade do seu género (callofduty.com)*\n",
    "\n",
    "Conjunto de dados que contém o comportamento de jogadores do game multiplayer Call of Duty: Modern Warfare.\n",
    "\n",
    "**Objetivo:** Encontrar segmentos de jogadores conforme seu comportamento no game.\n",
    "\n",
    "**Dataset:**https://www.kaggle.com/aishahakami/call-of-duty-players"
   ]
  },
  {
   "cell_type": "markdown",
   "id": "thirty-camel",
   "metadata": {},
   "source": [
    "## 1. IMPORTANDO PACOTES E DADOS"
   ]
  },
  {
   "cell_type": "code",
   "execution_count": 1,
   "id": "inner-ground",
   "metadata": {},
   "outputs": [
    {
     "name": "stderr",
     "output_type": "stream",
     "text": [
      "Warning message:\n",
      "\"package 'factoextra' was built under R version 3.6.3\"Loading required package: ggplot2\n",
      "Warning message:\n",
      "\"package 'ggplot2' was built under R version 3.6.3\"Welcome! Want to learn more? See two factoextra-related books at https://goo.gl/ve3WBa\n",
      "Warning message:\n",
      "\"package 'cluster' was built under R version 3.6.3\"Warning message:\n",
      "\"package 'fpc' was built under R version 3.6.3\"Warning message:\n",
      "\"package 'clValid' was built under R version 3.6.3\"Warning message:\n",
      "\"package 'tidyverse' was built under R version 3.6.3\"-- Attaching packages ---------------------------------------------------------------------------------- tidyverse 1.3.0 --\n",
      "v tibble  3.0.6     v dplyr   1.0.4\n",
      "v tidyr   1.1.2     v stringr 1.4.0\n",
      "v readr   1.3.1     v forcats 0.4.0\n",
      "v purrr   0.3.4     \n",
      "Warning message:\n",
      "\"package 'tibble' was built under R version 3.6.3\"Warning message:\n",
      "\"package 'tidyr' was built under R version 3.6.3\"Warning message:\n",
      "\"package 'purrr' was built under R version 3.6.3\"Warning message:\n",
      "\"package 'dplyr' was built under R version 3.6.3\"-- Conflicts ------------------------------------------------------------------------------------- tidyverse_conflicts() --\n",
      "x tidyr::extract()   masks magrittr::extract()\n",
      "x dplyr::filter()    masks stats::filter()\n",
      "x dplyr::lag()       masks stats::lag()\n",
      "x purrr::set_names() masks magrittr::set_names()\n",
      "Warning message:\n",
      "\"package 'gridExtra' was built under R version 3.6.3\"\n",
      "Attaching package: 'gridExtra'\n",
      "\n",
      "The following object is masked from 'package:dplyr':\n",
      "\n",
      "    combine\n",
      "\n"
     ]
    }
   ],
   "source": [
    "# Importar pacotes\n",
    "library(factoextra)\n",
    "library(cluster)\n",
    "library(fpc)\n",
    "library(NbClust)\n",
    "library(clValid)\n",
    "library(magrittr)\n",
    "library(clustertend)\n",
    "library(tidyverse)\n",
    "library(gridExtra)"
   ]
  },
  {
   "cell_type": "code",
   "execution_count": 2,
   "id": "geographic-butler",
   "metadata": {},
   "outputs": [],
   "source": [
    "# Carregando os dados\n",
    "df_cod<- read.csv(\"dados/cod.csv\")"
   ]
  },
  {
   "cell_type": "code",
   "execution_count": 3,
   "id": "arctic-valuable",
   "metadata": {},
   "outputs": [
    {
     "data": {
      "text/html": [
       "<table>\n",
       "<thead><tr><th scope=col>name</th><th scope=col>wins</th><th scope=col>kills</th><th scope=col>kdRatio</th><th scope=col>killstreak</th><th scope=col>level</th><th scope=col>losses</th><th scope=col>prestige</th><th scope=col>hits</th><th scope=col>timePlayed</th><th scope=col>headshots</th><th scope=col>averageTime</th><th scope=col>gamesPlayed</th><th scope=col>assists</th><th scope=col>misses</th><th scope=col>xp</th><th scope=col>scorePerMinute</th><th scope=col>shots</th><th scope=col>deaths</th></tr></thead>\n",
       "<tbody>\n",
       "\t<tr><td>RggRt45#4697369       </td><td>  0                   </td><td>    0                 </td><td>0.000000              </td><td> 0                    </td><td>  1                   </td><td> 0                    </td><td>  0                   </td><td>    0                 </td><td>   0                  </td><td>   0                  </td><td> 0.000000             </td><td>  0                   </td><td>   0                  </td><td>     0                </td><td>      0               </td><td>  0.000               </td><td>     0                </td><td>    0                 </td></tr>\n",
       "\t<tr><td>JohniceRex#9176033    </td><td>  0                   </td><td>    0                 </td><td>0.000000              </td><td> 0                    </td><td>  1                   </td><td> 0                    </td><td>110                   </td><td>    0                 </td><td>   7                  </td><td>   0                  </td><td> 7.000000             </td><td>  0                   </td><td>   0                  </td><td>     0                </td><td>    700               </td><td>  0.000               </td><td>     0                </td><td>   16                 </td></tr>\n",
       "\t<tr><td>bootybootykill#1892064</td><td>  0                   </td><td>   66                 </td><td>1.031250              </td><td> 0                    </td><td>  9                   </td><td> 0                    </td><td>110                   </td><td>    0                 </td><td>  32                  </td><td>  16                  </td><td>32.000000             </td><td>  0                   </td><td>   1                  </td><td>     0                </td><td>  48300               </td><td>  0.000               </td><td>     0                </td><td>   64                 </td></tr>\n",
       "\t<tr><td>JNaCo#5244172         </td><td>  3                   </td><td>    2                 </td><td>0.400000              </td><td> 0                    </td><td>  1                   </td><td> 0                    </td><td>  0                   </td><td>    0                 </td><td>   3                  </td><td>   0                  </td><td> 3.000000             </td><td>  0                   </td><td>   0                  </td><td>     0                </td><td>   1150               </td><td>  0.000               </td><td>     0                </td><td>    5                 </td></tr>\n",
       "\t<tr><td>gomezyayo_007#6596687 </td><td>  0                   </td><td>    2                 </td><td>0.200000              </td><td> 0                    </td><td>  1                   </td><td> 0                    </td><td>110                   </td><td>    0                 </td><td>   5                  </td><td>   1                  </td><td> 5.000000             </td><td>  0                   </td><td>   0                  </td><td>     0                </td><td>   1000               </td><td>  0.000               </td><td>     0                </td><td>   10                 </td></tr>\n",
       "\t<tr><td>Brxndoon7-LK#4002715  </td><td>684                   </td><td>27011                 </td><td>1.066743              </td><td>18                    </td><td>177                   </td><td>10                    </td><td>110                   </td><td>98332                 </td><td>1366                  </td><td>5113                  </td><td> 2.323129             </td><td>588                   </td><td>6063                  </td><td>305319                </td><td>3932335               </td><td>255.672               </td><td>403651                </td><td>25321                 </td></tr>\n",
       "</tbody>\n",
       "</table>\n"
      ],
      "text/latex": [
       "\\begin{tabular}{r|lllllllllllllllllll}\n",
       " name & wins & kills & kdRatio & killstreak & level & losses & prestige & hits & timePlayed & headshots & averageTime & gamesPlayed & assists & misses & xp & scorePerMinute & shots & deaths\\\\\n",
       "\\hline\n",
       "\t RggRt45\\#4697369        &   0                      &     0                    & 0.000000                 &  0                       &   1                      &  0                       &   0                      &     0                    &    0                     &    0                     &  0.000000                &   0                      &    0                     &      0                   &       0                  &   0.000                  &      0                   &     0                   \\\\\n",
       "\t JohniceRex\\#9176033     &   0                      &     0                    & 0.000000                 &  0                       &   1                      &  0                       & 110                      &     0                    &    7                     &    0                     &  7.000000                &   0                      &    0                     &      0                   &     700                  &   0.000                  &      0                   &    16                   \\\\\n",
       "\t bootybootykill\\#1892064 &   0                      &    66                    & 1.031250                 &  0                       &   9                      &  0                       & 110                      &     0                    &   32                     &   16                     & 32.000000                &   0                      &    1                     &      0                   &   48300                  &   0.000                  &      0                   &    64                   \\\\\n",
       "\t JNaCo\\#5244172          &   3                      &     2                    & 0.400000                 &  0                       &   1                      &  0                       &   0                      &     0                    &    3                     &    0                     &  3.000000                &   0                      &    0                     &      0                   &    1150                  &   0.000                  &      0                   &     5                   \\\\\n",
       "\t gomezyayo\\_007\\#6596687  &   0                        &     2                      & 0.200000                   &  0                         &   1                        &  0                         & 110                        &     0                      &    5                       &    1                       &  5.000000                  &   0                        &    0                       &      0                     &    1000                    &   0.000                    &      0                     &    10                     \\\\\n",
       "\t Brxndoon7-LK\\#4002715   & 684                      & 27011                    & 1.066743                 & 18                       & 177                      & 10                       & 110                      & 98332                    & 1366                     & 5113                     &  2.323129                & 588                      & 6063                     & 305319                   & 3932335                  & 255.672                  & 403651                   & 25321                   \\\\\n",
       "\\end{tabular}\n"
      ],
      "text/markdown": [
       "\n",
       "| name | wins | kills | kdRatio | killstreak | level | losses | prestige | hits | timePlayed | headshots | averageTime | gamesPlayed | assists | misses | xp | scorePerMinute | shots | deaths |\n",
       "|---|---|---|---|---|---|---|---|---|---|---|---|---|---|---|---|---|---|---|\n",
       "| RggRt45#4697369        |   0                    |     0                  | 0.000000               |  0                     |   1                    |  0                     |   0                    |     0                  |    0                   |    0                   |  0.000000              |   0                    |    0                   |      0                 |       0                |   0.000                |      0                 |     0                  |\n",
       "| JohniceRex#9176033     |   0                    |     0                  | 0.000000               |  0                     |   1                    |  0                     | 110                    |     0                  |    7                   |    0                   |  7.000000              |   0                    |    0                   |      0                 |     700                |   0.000                |      0                 |    16                  |\n",
       "| bootybootykill#1892064 |   0                    |    66                  | 1.031250               |  0                     |   9                    |  0                     | 110                    |     0                  |   32                   |   16                   | 32.000000              |   0                    |    1                   |      0                 |   48300                |   0.000                |      0                 |    64                  |\n",
       "| JNaCo#5244172          |   3                    |     2                  | 0.400000               |  0                     |   1                    |  0                     |   0                    |     0                  |    3                   |    0                   |  3.000000              |   0                    |    0                   |      0                 |    1150                |   0.000                |      0                 |     5                  |\n",
       "| gomezyayo_007#6596687  |   0                    |     2                  | 0.200000               |  0                     |   1                    |  0                     | 110                    |     0                  |    5                   |    1                   |  5.000000              |   0                    |    0                   |      0                 |    1000                |   0.000                |      0                 |    10                  |\n",
       "| Brxndoon7-LK#4002715   | 684                    | 27011                  | 1.066743               | 18                     | 177                    | 10                     | 110                    | 98332                  | 1366                   | 5113                   |  2.323129              | 588                    | 6063                   | 305319                 | 3932335                | 255.672                | 403651                 | 25321                  |\n",
       "\n"
      ],
      "text/plain": [
       "  name                   wins kills kdRatio  killstreak level losses prestige\n",
       "1 RggRt45#4697369          0      0 0.000000  0           1    0       0     \n",
       "2 JohniceRex#9176033       0      0 0.000000  0           1    0     110     \n",
       "3 bootybootykill#1892064   0     66 1.031250  0           9    0     110     \n",
       "4 JNaCo#5244172            3      2 0.400000  0           1    0       0     \n",
       "5 gomezyayo_007#6596687    0      2 0.200000  0           1    0     110     \n",
       "6 Brxndoon7-LK#4002715   684  27011 1.066743 18         177   10     110     \n",
       "  hits  timePlayed headshots averageTime gamesPlayed assists misses xp     \n",
       "1     0    0          0       0.000000     0            0         0       0\n",
       "2     0    7          0       7.000000     0            0         0     700\n",
       "3     0   32         16      32.000000     0            1         0   48300\n",
       "4     0    3          0       3.000000     0            0         0    1150\n",
       "5     0    5          1       5.000000     0            0         0    1000\n",
       "6 98332 1366       5113       2.323129   588         6063    305319 3932335\n",
       "  scorePerMinute shots  deaths\n",
       "1   0.000             0     0 \n",
       "2   0.000             0    16 \n",
       "3   0.000             0    64 \n",
       "4   0.000             0     5 \n",
       "5   0.000             0    10 \n",
       "6 255.672        403651 25321 "
      ]
     },
     "metadata": {},
     "output_type": "display_data"
    }
   ],
   "source": [
    "# Visualizar as seis primeiras linhas do dataset\n",
    "head(df_cod)"
   ]
  },
  {
   "cell_type": "code",
   "execution_count": 4,
   "id": "cathedral-collective",
   "metadata": {},
   "outputs": [
    {
     "data": {
      "text/html": [
       "<table>\n",
       "<thead><tr><th></th><th scope=col>name</th><th scope=col>wins</th><th scope=col>kills</th><th scope=col>kdRatio</th><th scope=col>killstreak</th><th scope=col>level</th><th scope=col>losses</th><th scope=col>prestige</th><th scope=col>hits</th><th scope=col>timePlayed</th><th scope=col>headshots</th><th scope=col>averageTime</th><th scope=col>gamesPlayed</th><th scope=col>assists</th><th scope=col>misses</th><th scope=col>xp</th><th scope=col>scorePerMinute</th><th scope=col>shots</th><th scope=col>deaths</th></tr></thead>\n",
       "<tbody>\n",
       "\t<tr><th scope=row>1553</th><td>LokiiFN#2367402    </td><td>0                  </td><td> 0                 </td><td>0.0000000          </td><td>0                  </td><td> 1                 </td><td>0                  </td><td>  0                </td><td> 0                 </td><td> 1                 </td><td> 0                 </td><td> 1                 </td><td>0                  </td><td> 0                 </td><td> 0                 </td><td>  200              </td><td> 0.0               </td><td> 0                 </td><td>  2                </td></tr>\n",
       "\t<tr><th scope=row>1554</th><td>ImranePROPG#2085215</td><td>0                  </td><td>51                 </td><td>0.4322034          </td><td>0                  </td><td>10                 </td><td>0                  </td><td>110                </td><td> 0                 </td><td>71                 </td><td>11                 </td><td>71                 </td><td>0                  </td><td> 0                 </td><td> 0                 </td><td>49935              </td><td> 0.0               </td><td> 0                 </td><td>118                </td></tr>\n",
       "\t<tr><th scope=row>1555</th><td>Miguel_mor#1492856 </td><td>0                  </td><td> 0                 </td><td>0.0000000          </td><td>0                  </td><td> 1                 </td><td>0                  </td><td>  0                </td><td> 0                 </td><td> 0                 </td><td> 0                 </td><td> 0                 </td><td>0                  </td><td> 0                 </td><td> 0                 </td><td>    0              </td><td> 0.0               </td><td> 0                 </td><td>  0                </td></tr>\n",
       "\t<tr><th scope=row>1556</th><td>Trianthor#3462590  </td><td>0                  </td><td> 0                 </td><td>0.0000000          </td><td>0                  </td><td> 1                 </td><td>0                  </td><td>  0                </td><td> 0                 </td><td> 0                 </td><td> 0                 </td><td> 0                 </td><td>0                  </td><td> 0                 </td><td> 0                 </td><td>    0              </td><td> 0.0               </td><td> 0                 </td><td>  0                </td></tr>\n",
       "\t<tr><th scope=row>1557</th><td>tinytrex594#3976133</td><td>0                  </td><td> 0                 </td><td>0.0000000          </td><td>0                  </td><td> 1                 </td><td>0                  </td><td>  0                </td><td> 2                 </td><td> 1                 </td><td> 0                 </td><td> 1                 </td><td>0                  </td><td> 1                 </td><td> 7                 </td><td>    0              </td><td>91.2               </td><td> 9                 </td><td>  0                </td></tr>\n",
       "\t<tr><th scope=row>1558</th><td>TomasFJ_05#2711069 </td><td>1                  </td><td>35                 </td><td>0.6862745          </td><td>3                  </td><td> 5                 </td><td>1                  </td><td>110                </td><td>17                 </td><td>10                 </td><td> 6                 </td><td>10                 </td><td>1                  </td><td>11                 </td><td>63                 </td><td>17126              </td><td>39.0               </td><td>80                 </td><td> 51                </td></tr>\n",
       "</tbody>\n",
       "</table>\n"
      ],
      "text/latex": [
       "\\begin{tabular}{r|lllllllllllllllllll}\n",
       "  & name & wins & kills & kdRatio & killstreak & level & losses & prestige & hits & timePlayed & headshots & averageTime & gamesPlayed & assists & misses & xp & scorePerMinute & shots & deaths\\\\\n",
       "\\hline\n",
       "\t1553 & LokiiFN\\#2367402     & 0                     &  0                    & 0.0000000             & 0                     &  1                    & 0                     &   0                   &  0                    &  1                    &  0                    &  1                    & 0                     &  0                    &  0                    &   200                 &  0.0                  &  0                    &   2                  \\\\\n",
       "\t1554 & ImranePROPG\\#2085215 & 0                     & 51                    & 0.4322034             & 0                     & 10                    & 0                     & 110                   &  0                    & 71                    & 11                    & 71                    & 0                     &  0                    &  0                    & 49935                 &  0.0                  &  0                    & 118                  \\\\\n",
       "\t1555 & Miguel\\_mor\\#1492856  & 0                       &  0                      & 0.0000000               & 0                       &  1                      & 0                       &   0                     &  0                      &  0                      &  0                      &  0                      & 0                       &  0                      &  0                      &     0                   &  0.0                    &  0                      &   0                    \\\\\n",
       "\t1556 & Trianthor\\#3462590   & 0                     &  0                    & 0.0000000             & 0                     &  1                    & 0                     &   0                   &  0                    &  0                    &  0                    &  0                    & 0                     &  0                    &  0                    &     0                 &  0.0                  &  0                    &   0                  \\\\\n",
       "\t1557 & tinytrex594\\#3976133 & 0                     &  0                    & 0.0000000             & 0                     &  1                    & 0                     &   0                   &  2                    &  1                    &  0                    &  1                    & 0                     &  1                    &  7                    &     0                 & 91.2                  &  9                    &   0                  \\\\\n",
       "\t1558 & TomasFJ\\_05\\#2711069  & 1                       & 35                      & 0.6862745               & 3                       &  5                      & 1                       & 110                     & 17                      & 10                      &  6                      & 10                      & 1                       & 11                      & 63                      & 17126                   & 39.0                    & 80                      &  51                    \\\\\n",
       "\\end{tabular}\n"
      ],
      "text/markdown": [
       "\n",
       "| <!--/--> | name | wins | kills | kdRatio | killstreak | level | losses | prestige | hits | timePlayed | headshots | averageTime | gamesPlayed | assists | misses | xp | scorePerMinute | shots | deaths |\n",
       "|---|---|---|---|---|---|---|---|---|---|---|---|---|---|---|---|---|---|---|---|\n",
       "| 1553 | LokiiFN#2367402     | 0                   |  0                  | 0.0000000           | 0                   |  1                  | 0                   |   0                 |  0                  |  1                  |  0                  |  1                  | 0                   |  0                  |  0                  |   200               |  0.0                |  0                  |   2                 |\n",
       "| 1554 | ImranePROPG#2085215 | 0                   | 51                  | 0.4322034           | 0                   | 10                  | 0                   | 110                 |  0                  | 71                  | 11                  | 71                  | 0                   |  0                  |  0                  | 49935               |  0.0                |  0                  | 118                 |\n",
       "| 1555 | Miguel_mor#1492856  | 0                   |  0                  | 0.0000000           | 0                   |  1                  | 0                   |   0                 |  0                  |  0                  |  0                  |  0                  | 0                   |  0                  |  0                  |     0               |  0.0                |  0                  |   0                 |\n",
       "| 1556 | Trianthor#3462590   | 0                   |  0                  | 0.0000000           | 0                   |  1                  | 0                   |   0                 |  0                  |  0                  |  0                  |  0                  | 0                   |  0                  |  0                  |     0               |  0.0                |  0                  |   0                 |\n",
       "| 1557 | tinytrex594#3976133 | 0                   |  0                  | 0.0000000           | 0                   |  1                  | 0                   |   0                 |  2                  |  1                  |  0                  |  1                  | 0                   |  1                  |  7                  |     0               | 91.2                |  9                  |   0                 |\n",
       "| 1558 | TomasFJ_05#2711069  | 1                   | 35                  | 0.6862745           | 3                   |  5                  | 1                   | 110                 | 17                  | 10                  |  6                  | 10                  | 1                   | 11                  | 63                  | 17126               | 39.0                | 80                  |  51                 |\n",
       "\n"
      ],
      "text/plain": [
       "     name                wins kills kdRatio   killstreak level losses prestige\n",
       "1553 LokiiFN#2367402     0     0    0.0000000 0           1    0        0     \n",
       "1554 ImranePROPG#2085215 0    51    0.4322034 0          10    0      110     \n",
       "1555 Miguel_mor#1492856  0     0    0.0000000 0           1    0        0     \n",
       "1556 Trianthor#3462590   0     0    0.0000000 0           1    0        0     \n",
       "1557 tinytrex594#3976133 0     0    0.0000000 0           1    0        0     \n",
       "1558 TomasFJ_05#2711069  1    35    0.6862745 3           5    1      110     \n",
       "     hits timePlayed headshots averageTime gamesPlayed assists misses xp   \n",
       "1553  0    1          0         1          0            0       0       200\n",
       "1554  0   71         11        71          0            0       0     49935\n",
       "1555  0    0          0         0          0            0       0         0\n",
       "1556  0    0          0         0          0            0       0         0\n",
       "1557  2    1          0         1          0            1       7         0\n",
       "1558 17   10          6        10          1           11      63     17126\n",
       "     scorePerMinute shots deaths\n",
       "1553  0.0            0      2   \n",
       "1554  0.0            0    118   \n",
       "1555  0.0            0      0   \n",
       "1556  0.0            0      0   \n",
       "1557 91.2            9      0   \n",
       "1558 39.0           80     51   "
      ]
     },
     "metadata": {},
     "output_type": "display_data"
    }
   ],
   "source": [
    "# Visualizar as seis últimas linhas do dataset\n",
    "tail(df_cod)"
   ]
  },
  {
   "cell_type": "code",
   "execution_count": 5,
   "id": "computational-explosion",
   "metadata": {},
   "outputs": [
    {
     "data": {
      "text/html": [
       "<ol class=list-inline>\n",
       "\t<li>'name'</li>\n",
       "\t<li>'wins'</li>\n",
       "\t<li>'kills'</li>\n",
       "\t<li>'kdRatio'</li>\n",
       "\t<li>'killstreak'</li>\n",
       "\t<li>'level'</li>\n",
       "\t<li>'losses'</li>\n",
       "\t<li>'prestige'</li>\n",
       "\t<li>'hits'</li>\n",
       "\t<li>'timePlayed'</li>\n",
       "\t<li>'headshots'</li>\n",
       "\t<li>'averageTime'</li>\n",
       "\t<li>'gamesPlayed'</li>\n",
       "\t<li>'assists'</li>\n",
       "\t<li>'misses'</li>\n",
       "\t<li>'xp'</li>\n",
       "\t<li>'scorePerMinute'</li>\n",
       "\t<li>'shots'</li>\n",
       "\t<li>'deaths'</li>\n",
       "</ol>\n"
      ],
      "text/latex": [
       "\\begin{enumerate*}\n",
       "\\item 'name'\n",
       "\\item 'wins'\n",
       "\\item 'kills'\n",
       "\\item 'kdRatio'\n",
       "\\item 'killstreak'\n",
       "\\item 'level'\n",
       "\\item 'losses'\n",
       "\\item 'prestige'\n",
       "\\item 'hits'\n",
       "\\item 'timePlayed'\n",
       "\\item 'headshots'\n",
       "\\item 'averageTime'\n",
       "\\item 'gamesPlayed'\n",
       "\\item 'assists'\n",
       "\\item 'misses'\n",
       "\\item 'xp'\n",
       "\\item 'scorePerMinute'\n",
       "\\item 'shots'\n",
       "\\item 'deaths'\n",
       "\\end{enumerate*}\n"
      ],
      "text/markdown": [
       "1. 'name'\n",
       "2. 'wins'\n",
       "3. 'kills'\n",
       "4. 'kdRatio'\n",
       "5. 'killstreak'\n",
       "6. 'level'\n",
       "7. 'losses'\n",
       "8. 'prestige'\n",
       "9. 'hits'\n",
       "10. 'timePlayed'\n",
       "11. 'headshots'\n",
       "12. 'averageTime'\n",
       "13. 'gamesPlayed'\n",
       "14. 'assists'\n",
       "15. 'misses'\n",
       "16. 'xp'\n",
       "17. 'scorePerMinute'\n",
       "18. 'shots'\n",
       "19. 'deaths'\n",
       "\n",
       "\n"
      ],
      "text/plain": [
       " [1] \"name\"           \"wins\"           \"kills\"          \"kdRatio\"       \n",
       " [5] \"killstreak\"     \"level\"          \"losses\"         \"prestige\"      \n",
       " [9] \"hits\"           \"timePlayed\"     \"headshots\"      \"averageTime\"   \n",
       "[13] \"gamesPlayed\"    \"assists\"        \"misses\"         \"xp\"            \n",
       "[17] \"scorePerMinute\" \"shots\"          \"deaths\"        "
      ]
     },
     "metadata": {},
     "output_type": "display_data"
    }
   ],
   "source": [
    "names(df_cod)"
   ]
  },
  {
   "cell_type": "code",
   "execution_count": 6,
   "id": "alone-instruction",
   "metadata": {},
   "outputs": [
    {
     "data": {
      "text/plain": [
       "                  name           wins          kills            kdRatio      \n",
       " _Loki_23#6617235   :   1   Min.   :   0   Min.   :    0.0   Min.   :0.0000  \n",
       " 052397#4248023     :   1   1st Qu.:   0   1st Qu.:    4.0   1st Qu.:0.2614  \n",
       " 07999854292#2183402:   1   Median :  10   Median :  191.5   Median :0.7328  \n",
       " 09771#8158362      :   1   Mean   : 153   Mean   : 3753.0   Mean   :0.6371  \n",
       " 136_Luca#5240574   :   1   3rd Qu.: 168   3rd Qu.: 3445.8   3rd Qu.:0.9553  \n",
       " 207LucasM#4976565  :   1   Max.   :3519   Max.   :66935.0   Max.   :3.0000  \n",
       " (Other)            :1552                                                    \n",
       "   killstreak          level            losses          prestige     \n",
       " Min.   :  0.000   Min.   :  1.00   Min.   : 0.000   Min.   :  0.00  \n",
       " 1st Qu.:  0.000   1st Qu.:  1.00   1st Qu.: 0.000   1st Qu.:  0.00  \n",
       " Median :  5.000   Median : 11.00   Median : 2.000   Median : 14.00  \n",
       " Mean   :  6.895   Mean   : 44.41   Mean   : 4.998   Mean   : 47.66  \n",
       " 3rd Qu.: 12.000   3rd Qu.: 51.00   3rd Qu.: 8.000   3rd Qu.:110.00  \n",
       " Max.   :235.000   Max.   :435.00   Max.   :80.000   Max.   :117.00  \n",
       "                                                                     \n",
       "      hits            timePlayed       headshots        averageTime      \n",
       " Min.   :     0.0   Min.   :   0.0   Min.   :    0.0   Min.   :   0.000  \n",
       " 1st Qu.:     0.0   1st Qu.:   4.0   1st Qu.:    1.0   1st Qu.:   2.000  \n",
       " Median :   214.5   Median :  51.0   Median :   32.0   Median :   3.031  \n",
       " Mean   : 10330.2   Mean   : 425.9   Mean   :  630.7   Mean   :  21.428  \n",
       " 3rd Qu.:  9015.5   3rd Qu.: 485.5   3rd Qu.:  602.8   3rd Qu.:   9.086  \n",
       " Max.   :209851.0   Max.   :7479.0   Max.   :11719.0   Max.   :1349.000  \n",
       "                                                                         \n",
       "  gamesPlayed        assists            misses             xp          \n",
       " Min.   :   0.0   Min.   :    0.0   Min.   :     0   Min.   :       0  \n",
       " 1st Qu.:   0.0   1st Qu.:    0.0   1st Qu.:     0   1st Qu.:    2106  \n",
       " Median :   3.0   Median :   36.5   Median :  1308   Median :   63968  \n",
       " Mean   : 116.7   Mean   :  685.8   Mean   : 45357   Mean   :  872633  \n",
       " 3rd Qu.: 110.5   3rd Qu.:  609.8   3rd Qu.: 40907   3rd Qu.:  828669  \n",
       " Max.   :3745.0   Max.   :14531.0   Max.   :965775   Max.   :14970539  \n",
       "                                                                       \n",
       " scorePerMinute       shots             deaths     \n",
       " Min.   :  0.00   Min.   :      0   Min.   :    0  \n",
       " 1st Qu.:  0.00   1st Qu.:      0   1st Qu.:   14  \n",
       " Median : 56.79   Median :   1565   Median :  269  \n",
       " Mean   :107.87   Mean   :  55687   Mean   : 3875  \n",
       " 3rd Qu.:221.65   3rd Qu.:  50781   3rd Qu.: 3699  \n",
       " Max.   :413.80   Max.   :1166620   Max.   :67888  \n",
       "                                                   "
      ]
     },
     "metadata": {},
     "output_type": "display_data"
    }
   ],
   "source": [
    "# Sumário dos dados\n",
    "summary(df_cod)"
   ]
  },
  {
   "cell_type": "code",
   "execution_count": 7,
   "id": "rotary-accent",
   "metadata": {},
   "outputs": [
    {
     "data": {
      "text/html": [
       "<dl class=dl-horizontal>\n",
       "\t<dt>name</dt>\n",
       "\t\t<dd>0</dd>\n",
       "\t<dt>wins</dt>\n",
       "\t\t<dd>0</dd>\n",
       "\t<dt>kills</dt>\n",
       "\t\t<dd>0</dd>\n",
       "\t<dt>kdRatio</dt>\n",
       "\t\t<dd>0</dd>\n",
       "\t<dt>killstreak</dt>\n",
       "\t\t<dd>0</dd>\n",
       "\t<dt>level</dt>\n",
       "\t\t<dd>0</dd>\n",
       "\t<dt>losses</dt>\n",
       "\t\t<dd>0</dd>\n",
       "\t<dt>prestige</dt>\n",
       "\t\t<dd>0</dd>\n",
       "\t<dt>hits</dt>\n",
       "\t\t<dd>0</dd>\n",
       "\t<dt>timePlayed</dt>\n",
       "\t\t<dd>0</dd>\n",
       "\t<dt>headshots</dt>\n",
       "\t\t<dd>0</dd>\n",
       "\t<dt>averageTime</dt>\n",
       "\t\t<dd>0</dd>\n",
       "\t<dt>gamesPlayed</dt>\n",
       "\t\t<dd>0</dd>\n",
       "\t<dt>assists</dt>\n",
       "\t\t<dd>0</dd>\n",
       "\t<dt>misses</dt>\n",
       "\t\t<dd>0</dd>\n",
       "\t<dt>xp</dt>\n",
       "\t\t<dd>0</dd>\n",
       "\t<dt>scorePerMinute</dt>\n",
       "\t\t<dd>0</dd>\n",
       "\t<dt>shots</dt>\n",
       "\t\t<dd>0</dd>\n",
       "\t<dt>deaths</dt>\n",
       "\t\t<dd>0</dd>\n",
       "</dl>\n"
      ],
      "text/latex": [
       "\\begin{description*}\n",
       "\\item[name] 0\n",
       "\\item[wins] 0\n",
       "\\item[kills] 0\n",
       "\\item[kdRatio] 0\n",
       "\\item[killstreak] 0\n",
       "\\item[level] 0\n",
       "\\item[losses] 0\n",
       "\\item[prestige] 0\n",
       "\\item[hits] 0\n",
       "\\item[timePlayed] 0\n",
       "\\item[headshots] 0\n",
       "\\item[averageTime] 0\n",
       "\\item[gamesPlayed] 0\n",
       "\\item[assists] 0\n",
       "\\item[misses] 0\n",
       "\\item[xp] 0\n",
       "\\item[scorePerMinute] 0\n",
       "\\item[shots] 0\n",
       "\\item[deaths] 0\n",
       "\\end{description*}\n"
      ],
      "text/markdown": [
       "name\n",
       ":   0wins\n",
       ":   0kills\n",
       ":   0kdRatio\n",
       ":   0killstreak\n",
       ":   0level\n",
       ":   0losses\n",
       ":   0prestige\n",
       ":   0hits\n",
       ":   0timePlayed\n",
       ":   0headshots\n",
       ":   0averageTime\n",
       ":   0gamesPlayed\n",
       ":   0assists\n",
       ":   0misses\n",
       ":   0xp\n",
       ":   0scorePerMinute\n",
       ":   0shots\n",
       ":   0deaths\n",
       ":   0\n",
       "\n"
      ],
      "text/plain": [
       "          name           wins          kills        kdRatio     killstreak \n",
       "             0              0              0              0              0 \n",
       "         level         losses       prestige           hits     timePlayed \n",
       "             0              0              0              0              0 \n",
       "     headshots    averageTime    gamesPlayed        assists         misses \n",
       "             0              0              0              0              0 \n",
       "            xp scorePerMinute          shots         deaths \n",
       "             0              0              0              0 "
      ]
     },
     "metadata": {},
     "output_type": "display_data"
    }
   ],
   "source": [
    "# Checar a presença de NAs\n",
    "sapply(df_cod, function(x) sum(is.na(x)))"
   ]
  },
  {
   "cell_type": "markdown",
   "id": "extraordinary-entrance",
   "metadata": {},
   "source": [
    "## 2. LIMPEZA, TRANSFORMAÇÃO E ANÁLISE EXPLORATÓRIA DOS DADOS"
   ]
  },
  {
   "cell_type": "markdown",
   "id": "proved-playback",
   "metadata": {},
   "source": [
    "* Removeremos a primeira coluna (*ID*) pois não é relevante e útil para nosso modelo\n",
    "* Iremos visualizar as variáveis com histogramas\n",
    "* Realizaremos a padronização das variáveis"
   ]
  },
  {
   "cell_type": "markdown",
   "id": "pressed-raise",
   "metadata": {},
   "source": [
    "**Dicionário de variáveis**<br>\n",
    "* name: Nome do jogador<br>\n",
    "*wins: Número de vitórias<br>\n",
    "*kills: Número de mortes realizadas<br>\n",
    "*kdRatio: Razão entre mortes realizadas e mortes sofridas<br>\n",
    "*killstreak: Matar vários inimigos sem morrer<br>\n",
    "*level: Nível do jogador<br>\n",
    "*losses: Número de derrotas<br>\n",
    "*prestige: Modo opcional obtido ao chegar ao Level 55<br>\n",
    "*hits: Número de vezes que acertou outro jogador<br>\n",
    "*timePlayed: Tempo gasto no jogo<br>\n",
    "*headshots: Número de tiros que acertaram a cabeça do oponente<br>\n",
    "*averageTime: Tempo médio<br>\n",
    "*gamesPlayed: Número de partidas jogadas<br>\n",
    "*assists: Número de vezes que o jogador acerta um oponente mas um integrante de seu time o mata<br>\n",
    "*misses: Número de vezes que o jogador erra um tiro<br>\n",
    "*xp: Pontos de experiência<br>\n",
    "*scorePerMinute: Pontos ganhos por minuto<br>\n",
    "*shots: Número de tiros<br>\n",
    "*deaths: Número de mortes<br>"
   ]
  },
  {
   "cell_type": "code",
   "execution_count": 8,
   "id": "announced-basket",
   "metadata": {},
   "outputs": [],
   "source": [
    "# Retirando a primeira coluna (ID)\n",
    "df_cod_v1<- df_cod[,-1]"
   ]
  },
  {
   "cell_type": "code",
   "execution_count": 9,
   "id": "operational-coach",
   "metadata": {},
   "outputs": [],
   "source": [
    "# Plotando a variável wins\n",
    "plot1<-df_cod %>%\n",
    "ggplot(aes(wins)) +\n",
    "geom_histogram(fill = \"green\", color = \"red\", alpha = .5, bins = 40, boundary = 5) +\n",
    "labs(title=\"Wins\",x=NULL,y=NULL)"
   ]
  },
  {
   "cell_type": "code",
   "execution_count": 10,
   "id": "extended-lotus",
   "metadata": {},
   "outputs": [],
   "source": [
    "# Plotando a variável kills\n",
    "plot2<-df_cod %>%\n",
    "ggplot(aes(kills)) +\n",
    "geom_histogram(fill = \"green\", color = \"red\", alpha = .5, bins = 40, boundary = 5) +\n",
    "labs(title=\"Kills\",x=NULL,y=NULL)"
   ]
  },
  {
   "cell_type": "code",
   "execution_count": 11,
   "id": "developed-anchor",
   "metadata": {},
   "outputs": [],
   "source": [
    "# Plotando a variável kdRatio\n",
    "plot3<-df_cod %>%\n",
    "ggplot(aes(kdRatio)) +\n",
    "geom_histogram(fill = \"green\", color = \"red\", alpha = .5, bins = 40, boundary = 5) +\n",
    "labs(title=\"KdRatio\",x=NULL,y=NULL)"
   ]
  },
  {
   "cell_type": "code",
   "execution_count": 12,
   "id": "solar-partition",
   "metadata": {},
   "outputs": [
    {
     "data": {
      "image/png": "[encoded data removed]",
      "text/plain": [
       "plot without title"
      ]
     },
     "metadata": {},
     "output_type": "display_data"
    }
   ],
   "source": [
    "grid.arrange(plot1,plot2,plot3)"
   ]
  },
  {
   "cell_type": "code",
   "execution_count": 13,
   "id": "desperate-referral",
   "metadata": {},
   "outputs": [],
   "source": [
    "# Plotando a variável killstreak\n",
    "plot4<-df_cod %>%\n",
    "ggplot(aes(killstreak)) +\n",
    "geom_histogram(fill = \"green\", color = \"red\", alpha = .5, bins = 40, boundary = 5) +\n",
    "labs(title=\"Killstreak\",x=NULL,y=NULL)"
   ]
  },
  {
   "cell_type": "code",
   "execution_count": 14,
   "id": "together-natural",
   "metadata": {},
   "outputs": [],
   "source": [
    "# Plotando a variável level\n",
    "plot5<-df_cod %>%\n",
    "ggplot(aes(level)) +\n",
    "geom_histogram(fill = \"green\", color = \"red\", alpha = .5, bins = 40, boundary = 5) +\n",
    "labs(title=\"Level\",x=NULL,y=NULL)"
   ]
  },
  {
   "cell_type": "code",
   "execution_count": 15,
   "id": "junior-brook",
   "metadata": {},
   "outputs": [],
   "source": [
    "# Plotando a variável Losses\n",
    "plot6<-df_cod %>%\n",
    "ggplot(aes(losses)) +\n",
    "geom_histogram(fill = \"green\", color = \"red\", alpha = .5, bins = 40, boundary = 5) +\n",
    "labs(title=\"Losses\",x=NULL,y=NULL)"
   ]
  },
  {
   "cell_type": "code",
   "execution_count": 16,
   "id": "horizontal-mystery",
   "metadata": {},
   "outputs": [
    {
     "data": {
      "image/png": "[encoded data removed]",
      "text/plain": [
       "plot without title"
      ]
     },
     "metadata": {},
     "output_type": "display_data"
    }
   ],
   "source": [
    "grid.arrange(plot4,plot5,plot6)"
   ]
  },
  {
   "cell_type": "code",
   "execution_count": 17,
   "id": "assisted-album",
   "metadata": {},
   "outputs": [],
   "source": [
    "# Plotando a variável prestige\n",
    "plot7<-df_cod %>%\n",
    "ggplot(aes(prestige)) +\n",
    "geom_histogram(fill = \"green\", color = \"red\", alpha = .5, bins = 40, boundary = 5) +\n",
    "labs(title=\"Prestige\",x=NULL,y=NULL)"
   ]
  },
  {
   "cell_type": "code",
   "execution_count": 18,
   "id": "interior-campus",
   "metadata": {},
   "outputs": [],
   "source": [
    "# Plotando a variável hits\n",
    "plot8<-df_cod %>%\n",
    "ggplot(aes(hits)) +\n",
    "geom_histogram(fill = \"green\", color = \"red\", alpha = .5, bins = 40, boundary = 5) +\n",
    "labs(title=\"Hits\",x=NULL,y=NULL)"
   ]
  },
  {
   "cell_type": "code",
   "execution_count": 19,
   "id": "monthly-circus",
   "metadata": {},
   "outputs": [],
   "source": [
    "# Plotando a variável timePlayed\n",
    "plot9<-df_cod %>%\n",
    "ggplot(aes(timePlayed)) +\n",
    "geom_histogram(fill = \"green\", color = \"red\", alpha = .5, bins = 40, boundary = 5) +\n",
    "labs(title=\"TimePlayed\",x=NULL,y=NULL)"
   ]
  },
  {
   "cell_type": "code",
   "execution_count": 20,
   "id": "compliant-demographic",
   "metadata": {},
   "outputs": [
    {
     "data": {
      "image/png": "[encoded data removed]",
      "text/plain": [
       "plot without title"
      ]
     },
     "metadata": {},
     "output_type": "display_data"
    }
   ],
   "source": [
    "grid.arrange(plot7,plot8,plot9)"
   ]
  },
  {
   "cell_type": "code",
   "execution_count": 21,
   "id": "novel-emerald",
   "metadata": {},
   "outputs": [],
   "source": [
    "# Plotando a variável headshots\n",
    "plot10<-df_cod %>%\n",
    "ggplot(aes(headshots)) +\n",
    "geom_histogram(fill = \"green\", color = \"red\", alpha = .5, bins = 40, boundary = 5) +\n",
    "labs(title=\"Headshots\",x=NULL,y=NULL)"
   ]
  },
  {
   "cell_type": "code",
   "execution_count": 22,
   "id": "alternate-georgia",
   "metadata": {},
   "outputs": [],
   "source": [
    "# Plotando a variável averageTime\n",
    "plot11<-df_cod %>%\n",
    "ggplot(aes(averageTime)) +\n",
    "geom_histogram(fill = \"green\", color = \"red\", alpha = .5, bins = 40, boundary = 5) +\n",
    "labs(title=\"AverageTime\",x=NULL,y=NULL)"
   ]
  },
  {
   "cell_type": "code",
   "execution_count": 23,
   "id": "valuable-ukraine",
   "metadata": {},
   "outputs": [],
   "source": [
    "# Plotando a variável gamesPlayed\n",
    "plot12<-df_cod %>%\n",
    "ggplot(aes(gamesPlayed)) +\n",
    "geom_histogram(fill = \"green\", color = \"red\", alpha = .5, bins = 40, boundary = 5) +\n",
    "labs(title=\"GamesPlayed\",x=NULL,y=NULL)"
   ]
  },
  {
   "cell_type": "code",
   "execution_count": 24,
   "id": "transparent-health",
   "metadata": {},
   "outputs": [
    {
     "data": {
      "image/png": "[encoded data removed]",
      "text/plain": [
       "plot without title"
      ]
     },
     "metadata": {},
     "output_type": "display_data"
    }
   ],
   "source": [
    "grid.arrange(plot10,plot11,plot12)"
   ]
  },
  {
   "cell_type": "code",
   "execution_count": 25,
   "id": "warming-symbol",
   "metadata": {},
   "outputs": [],
   "source": [
    "# Plotando a variável assists\n",
    "plot13<-df_cod %>%\n",
    "ggplot(aes(assists)) +\n",
    "geom_histogram(fill = \"green\", color = \"red\", alpha = .5, bins = 40, boundary = 5) +\n",
    "labs(title=\"Assists\",x=NULL,y=NULL)"
   ]
  },
  {
   "cell_type": "code",
   "execution_count": 26,
   "id": "casual-marker",
   "metadata": {},
   "outputs": [],
   "source": [
    "# Plotando a variável misses\n",
    "plot14<-df_cod %>%\n",
    "ggplot(aes(misses)) +\n",
    "geom_histogram(fill = \"green\", color = \"red\", alpha = .5, bins = 40, boundary = 5) +\n",
    "labs(title=\"Misses\",x=NULL,y=NULL)"
   ]
  },
  {
   "cell_type": "code",
   "execution_count": 27,
   "id": "loving-miniature",
   "metadata": {},
   "outputs": [],
   "source": [
    "# Plotando a variável xp\n",
    "plot15<-df_cod %>%\n",
    "ggplot(aes(xp)) +\n",
    "geom_histogram(fill = \"green\", color = \"red\", alpha = .5, bins = 40, boundary = 5) +\n",
    "labs(title=\"Xp\",x=NULL,y=NULL)"
   ]
  },
  {
   "cell_type": "code",
   "execution_count": 28,
   "id": "subtle-senator",
   "metadata": {},
   "outputs": [
    {
     "data": {
      "image/png": "[encoded data removed]",
      "text/plain": [
       "plot without title"
      ]
     },
     "metadata": {},
     "output_type": "display_data"
    }
   ],
   "source": [
    "grid.arrange(plot13,plot14,plot15)"
   ]
  },
  {
   "cell_type": "code",
   "execution_count": 29,
   "id": "inappropriate-absolute",
   "metadata": {},
   "outputs": [],
   "source": [
    "# Plotando a variável scorePerMinute\n",
    "plot16<-df_cod %>%\n",
    "ggplot(aes(scorePerMinute)) +\n",
    "geom_histogram(fill = \"green\", color = \"red\", alpha = .5, bins = 40, boundary = 5) +\n",
    "labs(title=\"ScorePerMinute\",x=NULL,y=NULL)"
   ]
  },
  {
   "cell_type": "code",
   "execution_count": 30,
   "id": "architectural-knock",
   "metadata": {},
   "outputs": [],
   "source": [
    "# Plotando a variável shots\n",
    "plot17<-df_cod %>%\n",
    "ggplot(aes(shots)) +\n",
    "geom_histogram(fill = \"green\", color = \"red\", alpha = .5, bins = 40, boundary = 5) +\n",
    "labs(title=\"Shots\",x=NULL,y=NULL)"
   ]
  },
  {
   "cell_type": "code",
   "execution_count": 31,
   "id": "configured-payday",
   "metadata": {},
   "outputs": [],
   "source": [
    "# Plotando a variável deaths\n",
    "plot18<-df_cod %>%\n",
    "ggplot(aes(deaths)) +\n",
    "geom_histogram(fill = \"green\", color = \"red\", alpha = .5, bins = 40, boundary = 5) +\n",
    "labs(title=\"Deaths\",x=NULL,y=NULL)"
   ]
  },
  {
   "cell_type": "code",
   "execution_count": 32,
   "id": "loaded-footage",
   "metadata": {},
   "outputs": [
    {
     "data": {
      "image/png": "[encoded data removed]",
      "text/plain": [
       "plot without title"
      ]
     },
     "metadata": {},
     "output_type": "display_data"
    }
   ],
   "source": [
    "grid.arrange(plot16,plot17,plot18)"
   ]
  },
  {
   "cell_type": "code",
   "execution_count": 33,
   "id": "interracial-navigator",
   "metadata": {},
   "outputs": [],
   "source": [
    "# Padronizando as variáveis\n",
    "df_cod_v1_scaled<- scale(df_cod_v1)"
   ]
  },
  {
   "cell_type": "code",
   "execution_count": 34,
   "id": "effective-enlargement",
   "metadata": {},
   "outputs": [
    {
     "data": {
      "text/html": [
       "<table>\n",
       "<thead><tr><th scope=col>wins</th><th scope=col>kills</th><th scope=col>kdRatio</th><th scope=col>killstreak</th><th scope=col>level</th><th scope=col>losses</th><th scope=col>prestige</th><th scope=col>hits</th><th scope=col>timePlayed</th><th scope=col>headshots</th><th scope=col>averageTime</th><th scope=col>gamesPlayed</th><th scope=col>assists</th><th scope=col>misses</th><th scope=col>xp</th><th scope=col>scorePerMinute</th><th scope=col>shots</th><th scope=col>deaths</th></tr></thead>\n",
       "<tbody>\n",
       "\t<tr><td>-0.5066566</td><td>-0.4732844</td><td>-1.4800427</td><td>-0.6770346</td><td>-0.6354781</td><td>-0.7134218</td><td>-0.9231212</td><td>-0.4500367</td><td>-0.5417520</td><td>-0.4832184</td><td>-0.2592984</td><td>-0.4552119</td><td>-0.4516626</td><td>-0.463204 </td><td>-0.4859425</td><td>-0.9257007</td><td>-0.462972 </td><td>-0.4848692</td></tr>\n",
       "\t<tr><td>-0.5066566</td><td>-0.4732844</td><td>-1.4800427</td><td>-0.6770346</td><td>-0.6354781</td><td>-0.7134218</td><td> 1.2075793</td><td>-0.4500367</td><td>-0.5328482</td><td>-0.4832184</td><td>-0.1745936</td><td>-0.4552119</td><td>-0.4516626</td><td>-0.463204 </td><td>-0.4855527</td><td>-0.9257007</td><td>-0.462972 </td><td>-0.4828674</td></tr>\n",
       "\t<tr><td>-0.5066566</td><td>-0.4649613</td><td> 0.9156540</td><td>-0.6770346</td><td>-0.5183788</td><td>-0.7134218</td><td> 1.2075793</td><td>-0.4500367</td><td>-0.5010490</td><td>-0.4709593</td><td> 0.1279233</td><td>-0.4552119</td><td>-0.4510040</td><td>-0.463204 </td><td>-0.4590457</td><td>-0.9257007</td><td>-0.462972 </td><td>-0.4768619</td></tr>\n",
       "\t<tr><td>-0.4967223</td><td>-0.4730322</td><td>-0.5508028</td><td>-0.6770346</td><td>-0.6354781</td><td>-0.7134218</td><td>-0.9231212</td><td>-0.4500367</td><td>-0.5379361</td><td>-0.4832184</td><td>-0.2229963</td><td>-0.4552119</td><td>-0.4516626</td><td>-0.463204 </td><td>-0.4853021</td><td>-0.9257007</td><td>-0.462972 </td><td>-0.4842436</td></tr>\n",
       "\t<tr><td>-0.5066566</td><td>-0.4730322</td><td>-1.0154227</td><td>-0.6770346</td><td>-0.6354781</td><td>-0.7134218</td><td> 1.2075793</td><td>-0.4500367</td><td>-0.5353921</td><td>-0.4824522</td><td>-0.1987950</td><td>-0.4552119</td><td>-0.4516626</td><td>-0.463204 </td><td>-0.4853856</td><td>-0.9257007</td><td>-0.462972 </td><td>-0.4836181</td></tr>\n",
       "\t<tr><td> 1.7583583</td><td> 2.9330249</td><td> 0.9981078</td><td> 1.0903263</td><td> 1.9407073</td><td> 0.7139715</td><td> 1.2075793</td><td> 3.8338159</td><td> 1.1957581</td><td> 3.4343378</td><td>-0.2311869</td><td> 1.8384839</td><td> 3.5413989</td><td> 2.654860 </td><td> 1.7038526</td><td> 1.2684066</td><td> 2.892926 </td><td> 2.6831599</td></tr>\n",
       "</tbody>\n",
       "</table>\n"
      ],
      "text/latex": [
       "\\begin{tabular}{llllllllllllllllll}\n",
       " wins & kills & kdRatio & killstreak & level & losses & prestige & hits & timePlayed & headshots & averageTime & gamesPlayed & assists & misses & xp & scorePerMinute & shots & deaths\\\\\n",
       "\\hline\n",
       "\t -0.5066566 & -0.4732844 & -1.4800427 & -0.6770346 & -0.6354781 & -0.7134218 & -0.9231212 & -0.4500367 & -0.5417520 & -0.4832184 & -0.2592984 & -0.4552119 & -0.4516626 & -0.463204  & -0.4859425 & -0.9257007 & -0.462972  & -0.4848692\\\\\n",
       "\t -0.5066566 & -0.4732844 & -1.4800427 & -0.6770346 & -0.6354781 & -0.7134218 &  1.2075793 & -0.4500367 & -0.5328482 & -0.4832184 & -0.1745936 & -0.4552119 & -0.4516626 & -0.463204  & -0.4855527 & -0.9257007 & -0.462972  & -0.4828674\\\\\n",
       "\t -0.5066566 & -0.4649613 &  0.9156540 & -0.6770346 & -0.5183788 & -0.7134218 &  1.2075793 & -0.4500367 & -0.5010490 & -0.4709593 &  0.1279233 & -0.4552119 & -0.4510040 & -0.463204  & -0.4590457 & -0.9257007 & -0.462972  & -0.4768619\\\\\n",
       "\t -0.4967223 & -0.4730322 & -0.5508028 & -0.6770346 & -0.6354781 & -0.7134218 & -0.9231212 & -0.4500367 & -0.5379361 & -0.4832184 & -0.2229963 & -0.4552119 & -0.4516626 & -0.463204  & -0.4853021 & -0.9257007 & -0.462972  & -0.4842436\\\\\n",
       "\t -0.5066566 & -0.4730322 & -1.0154227 & -0.6770346 & -0.6354781 & -0.7134218 &  1.2075793 & -0.4500367 & -0.5353921 & -0.4824522 & -0.1987950 & -0.4552119 & -0.4516626 & -0.463204  & -0.4853856 & -0.9257007 & -0.462972  & -0.4836181\\\\\n",
       "\t  1.7583583 &  2.9330249 &  0.9981078 &  1.0903263 &  1.9407073 &  0.7139715 &  1.2075793 &  3.8338159 &  1.1957581 &  3.4343378 & -0.2311869 &  1.8384839 &  3.5413989 &  2.654860  &  1.7038526 &  1.2684066 &  2.892926  &  2.6831599\\\\\n",
       "\\end{tabular}\n"
      ],
      "text/markdown": [
       "\n",
       "| wins | kills | kdRatio | killstreak | level | losses | prestige | hits | timePlayed | headshots | averageTime | gamesPlayed | assists | misses | xp | scorePerMinute | shots | deaths |\n",
       "|---|---|---|---|---|---|---|---|---|---|---|---|---|---|---|---|---|---|\n",
       "| -0.5066566 | -0.4732844 | -1.4800427 | -0.6770346 | -0.6354781 | -0.7134218 | -0.9231212 | -0.4500367 | -0.5417520 | -0.4832184 | -0.2592984 | -0.4552119 | -0.4516626 | -0.463204  | -0.4859425 | -0.9257007 | -0.462972  | -0.4848692 |\n",
       "| -0.5066566 | -0.4732844 | -1.4800427 | -0.6770346 | -0.6354781 | -0.7134218 |  1.2075793 | -0.4500367 | -0.5328482 | -0.4832184 | -0.1745936 | -0.4552119 | -0.4516626 | -0.463204  | -0.4855527 | -0.9257007 | -0.462972  | -0.4828674 |\n",
       "| -0.5066566 | -0.4649613 |  0.9156540 | -0.6770346 | -0.5183788 | -0.7134218 |  1.2075793 | -0.4500367 | -0.5010490 | -0.4709593 |  0.1279233 | -0.4552119 | -0.4510040 | -0.463204  | -0.4590457 | -0.9257007 | -0.462972  | -0.4768619 |\n",
       "| -0.4967223 | -0.4730322 | -0.5508028 | -0.6770346 | -0.6354781 | -0.7134218 | -0.9231212 | -0.4500367 | -0.5379361 | -0.4832184 | -0.2229963 | -0.4552119 | -0.4516626 | -0.463204  | -0.4853021 | -0.9257007 | -0.462972  | -0.4842436 |\n",
       "| -0.5066566 | -0.4730322 | -1.0154227 | -0.6770346 | -0.6354781 | -0.7134218 |  1.2075793 | -0.4500367 | -0.5353921 | -0.4824522 | -0.1987950 | -0.4552119 | -0.4516626 | -0.463204  | -0.4853856 | -0.9257007 | -0.462972  | -0.4836181 |\n",
       "|  1.7583583 |  2.9330249 |  0.9981078 |  1.0903263 |  1.9407073 |  0.7139715 |  1.2075793 |  3.8338159 |  1.1957581 |  3.4343378 | -0.2311869 |  1.8384839 |  3.5413989 |  2.654860  |  1.7038526 |  1.2684066 |  2.892926  |  2.6831599 |\n",
       "\n"
      ],
      "text/plain": [
       "     wins       kills      kdRatio    killstreak level      losses    \n",
       "[1,] -0.5066566 -0.4732844 -1.4800427 -0.6770346 -0.6354781 -0.7134218\n",
       "[2,] -0.5066566 -0.4732844 -1.4800427 -0.6770346 -0.6354781 -0.7134218\n",
       "[3,] -0.5066566 -0.4649613  0.9156540 -0.6770346 -0.5183788 -0.7134218\n",
       "[4,] -0.4967223 -0.4730322 -0.5508028 -0.6770346 -0.6354781 -0.7134218\n",
       "[5,] -0.5066566 -0.4730322 -1.0154227 -0.6770346 -0.6354781 -0.7134218\n",
       "[6,]  1.7583583  2.9330249  0.9981078  1.0903263  1.9407073  0.7139715\n",
       "     prestige   hits       timePlayed headshots  averageTime gamesPlayed\n",
       "[1,] -0.9231212 -0.4500367 -0.5417520 -0.4832184 -0.2592984  -0.4552119 \n",
       "[2,]  1.2075793 -0.4500367 -0.5328482 -0.4832184 -0.1745936  -0.4552119 \n",
       "[3,]  1.2075793 -0.4500367 -0.5010490 -0.4709593  0.1279233  -0.4552119 \n",
       "[4,] -0.9231212 -0.4500367 -0.5379361 -0.4832184 -0.2229963  -0.4552119 \n",
       "[5,]  1.2075793 -0.4500367 -0.5353921 -0.4824522 -0.1987950  -0.4552119 \n",
       "[6,]  1.2075793  3.8338159  1.1957581  3.4343378 -0.2311869   1.8384839 \n",
       "     assists    misses    xp         scorePerMinute shots     deaths    \n",
       "[1,] -0.4516626 -0.463204 -0.4859425 -0.9257007     -0.462972 -0.4848692\n",
       "[2,] -0.4516626 -0.463204 -0.4855527 -0.9257007     -0.462972 -0.4828674\n",
       "[3,] -0.4510040 -0.463204 -0.4590457 -0.9257007     -0.462972 -0.4768619\n",
       "[4,] -0.4516626 -0.463204 -0.4853021 -0.9257007     -0.462972 -0.4842436\n",
       "[5,] -0.4516626 -0.463204 -0.4853856 -0.9257007     -0.462972 -0.4836181\n",
       "[6,]  3.5413989  2.654860  1.7038526  1.2684066      2.892926  2.6831599"
      ]
     },
     "metadata": {},
     "output_type": "display_data"
    }
   ],
   "source": [
    "# Visualizando as seis primeiras linhas dos dados padronizados\n",
    "head(df_cod_v1_scaled)"
   ]
  },
  {
   "cell_type": "markdown",
   "id": "opposite-latvia",
   "metadata": {},
   "source": [
    "## 3. CONSTRUINDO O MODELO"
   ]
  },
  {
   "cell_type": "markdown",
   "id": "destroyed-bernard",
   "metadata": {},
   "source": [
    "* Avaliaremos a agrupabilidade dos dados com a estatística Hopkins\n",
    "* Determinando o número de clusters"
   ]
  },
  {
   "cell_type": "code",
   "execution_count": 35,
   "id": "asian-vietnam",
   "metadata": {},
   "outputs": [
    {
     "data": {
      "text/html": [
       "<strong>$H</strong> = 0.0341870384822078"
      ],
      "text/latex": [
       "\\textbf{\\$H} = 0.0341870384822078"
      ],
      "text/markdown": [
       "**$H** = 0.0341870384822078"
      ],
      "text/plain": [
       "$H\n",
       "[1] 0.03418704\n"
      ]
     },
     "metadata": {},
     "output_type": "display_data"
    }
   ],
   "source": [
    "# Aplicando a estatística hopkins\n",
    "hopkins(df_cod_v1_scaled, n=nrow(df_cod_v1_scaled)-1)"
   ]
  },
  {
   "cell_type": "code",
   "execution_count": 36,
   "id": "southwest-response",
   "metadata": {},
   "outputs": [],
   "source": [
    "# Determinando o número de clusters opção 1\n",
    "num_clusters_opt1 <- NbClust(df_cod_v1_scaled,  \n",
    "                             distance = \"euclidean\",\n",
    "                             min.nc = 2, \n",
    "                             max.nc = 15, \n",
    "                             method = \"kmeans\",\n",
    "                             index = \"silhouette\")"
   ]
  },
  {
   "cell_type": "code",
   "execution_count": 37,
   "id": "valued-onion",
   "metadata": {},
   "outputs": [
    {
     "data": {
      "text/html": [
       "<dl class=dl-horizontal>\n",
       "\t<dt>Number_clusters</dt>\n",
       "\t\t<dd>2</dd>\n",
       "\t<dt>Value_Index</dt>\n",
       "\t\t<dd>0.6112</dd>\n",
       "</dl>\n"
      ],
      "text/latex": [
       "\\begin{description*}\n",
       "\\item[Number\\textbackslash{}\\_clusters] 2\n",
       "\\item[Value\\textbackslash{}\\_Index] 0.6112\n",
       "\\end{description*}\n"
      ],
      "text/markdown": [
       "Number_clusters\n",
       ":   2Value_Index\n",
       ":   0.6112\n",
       "\n"
      ],
      "text/plain": [
       "Number_clusters     Value_Index \n",
       "         2.0000          0.6112 "
      ]
     },
     "metadata": {},
     "output_type": "display_data"
    }
   ],
   "source": [
    "# Número de clusters\n",
    "num_clusters_opt1$Best.nc"
   ]
  },
  {
   "cell_type": "code",
   "execution_count": 38,
   "id": "chronic-anatomy",
   "metadata": {},
   "outputs": [
    {
     "name": "stderr",
     "output_type": "stream",
     "text": [
      "Warning message in pf(beale, pp, df2):\n",
      "\"NaNs produzidos\""
     ]
    },
    {
     "name": "stdout",
     "output_type": "stream",
     "text": [
      "*** : The Hubert index is a graphical method of determining the number of clusters.\n",
      "                In the plot of Hubert index, we seek a significant knee that corresponds to a \n",
      "                significant increase of the value of the measure i.e the significant peak in Hubert\n",
      "                index second differences plot. \n",
      " \n"
     ]
    },
    {
     "data": {
      "image/png": "[encoded data removed]",
      "text/plain": [
       "plot without title"
      ]
     },
     "metadata": {},
     "output_type": "display_data"
    },
    {
     "name": "stdout",
     "output_type": "stream",
     "text": [
      "*** : The D index is a graphical method of determining the number of clusters. \n",
      "                In the plot of D index, we seek a significant knee (the significant peak in Dindex\n",
      "                second differences plot) that corresponds to a significant increase of the value of\n",
      "                the measure. \n",
      " \n",
      "******************************************************************* \n",
      "* Among all indices:                                                \n",
      "* 11 proposed 2 as the best number of clusters \n",
      "* 6 proposed 3 as the best number of clusters \n",
      "* 2 proposed 4 as the best number of clusters \n",
      "* 1 proposed 10 as the best number of clusters \n",
      "* 2 proposed 11 as the best number of clusters \n",
      "* 1 proposed 12 as the best number of clusters \n",
      "* 1 proposed 15 as the best number of clusters \n",
      "\n",
      "                   ***** Conclusion *****                            \n",
      " \n",
      "* According to the majority rule, the best number of clusters is  2 \n",
      " \n",
      " \n",
      "******************************************************************* \n"
     ]
    },
    {
     "data": {
      "image/png": "[encoded data removed]",
      "text/plain": [
       "plot without title"
      ]
     },
     "metadata": {},
     "output_type": "display_data"
    }
   ],
   "source": [
    "# Determinando o número de clusters opção 2\n",
    "num_clusters_opt2 <- NbClust(df_cod_v1_scaled,  \n",
    "                             distance = \"euclidean\", \n",
    "                             min.nc = 2, \n",
    "                             max.nc = 15, \n",
    "                             method = \"kmeans\",\n",
    "                             index = \"all\")\n"
   ]
  },
  {
   "cell_type": "markdown",
   "id": "confident-barcelona",
   "metadata": {},
   "source": [
    "* **MODELO 1**"
   ]
  },
  {
   "cell_type": "markdown",
   "id": "caring-animal",
   "metadata": {},
   "source": [
    "* Iremos utilizar k= 2, pois este foi o número ideal de clusters encontrado pela função NbClust()"
   ]
  },
  {
   "cell_type": "code",
   "execution_count": 39,
   "id": "instructional-launch",
   "metadata": {},
   "outputs": [],
   "source": [
    "# Construindo modelo 1\n",
    "model_v1<- kmeans(df_cod_v1_scaled,2)"
   ]
  },
  {
   "cell_type": "code",
   "execution_count": 40,
   "id": "agreed-discharge",
   "metadata": {},
   "outputs": [
    {
     "name": "stdout",
     "output_type": "stream",
     "text": [
      "K-means clustering with 2 clusters of sizes 1348, 210\n",
      "\n",
      "Cluster means:\n",
      "        wins      kills    kdRatio killstreak      level     losses   prestige\n",
      "1 -0.3106855 -0.3244238 -0.1368898 -0.1885775 -0.3180807 -0.2410478 -0.1325721\n",
      "2  1.9943053  2.0824916  0.8787022  1.2104881  2.0417752  1.5472973  0.8509868\n",
      "        hits timePlayed headshots averageTime gamesPlayed    assists     misses\n",
      "1 -0.3098037 -0.3086192 -0.322514  0.03246721  -0.3052609 -0.3089434 -0.3133234\n",
      "2  1.9886447  1.9810416  2.070233 -0.20840859   1.9594843  1.9831224  2.0112378\n",
      "         xp scorePerMinute      shots     deaths\n",
      "1 -0.303782     -0.1104830 -0.3141951 -0.3212977\n",
      "2  1.949991      0.7091957  2.0168334  2.0624254\n",
      "\n",
      "Clustering vector:\n",
      "   [1] 1 1 1 1 1 2 1 1 2 1 1 1 1 1 1 1 1 2 1 1 1 1 1 1 1 1 2 1 1 1 1 1 1 1 1 1 1\n",
      "  [38] 1 1 2 1 1 1 1 1 1 1 1 1 1 1 1 1 1 1 1 1 1 1 1 1 1 1 2 2 1 1 1 1 1 1 1 1 1\n",
      "  [75] 1 1 1 1 2 1 1 1 1 1 1 2 1 1 1 2 1 1 1 1 1 1 1 1 1 1 1 1 1 1 2 1 1 2 1 1 1\n",
      " [112] 1 1 1 1 1 1 1 1 1 1 1 1 1 1 1 1 1 1 1 2 1 2 1 1 2 1 2 1 1 1 1 1 2 1 1 1 1\n",
      " [149] 1 1 1 1 1 1 1 1 1 1 1 1 1 1 1 1 1 1 1 1 1 1 1 1 1 1 2 1 2 1 1 1 1 1 1 1 1\n",
      " [186] 2 2 1 1 1 1 1 1 1 1 2 1 1 1 1 1 1 1 1 1 1 1 1 1 1 1 1 2 2 1 1 1 1 1 1 1 1\n",
      " [223] 1 1 2 1 1 1 1 1 2 1 1 1 1 2 1 1 1 1 1 1 1 1 1 1 1 1 1 1 1 2 1 1 1 1 1 1 1\n",
      " [260] 1 2 1 1 1 1 1 1 1 1 2 1 1 1 1 1 1 1 1 1 1 1 1 1 1 1 1 1 1 1 1 1 1 1 1 1 1\n",
      " [297] 1 1 1 1 1 1 1 2 1 1 1 1 1 1 1 1 1 1 1 1 2 1 1 1 1 1 1 2 1 1 1 1 1 1 1 2 1\n",
      " [334] 1 1 1 2 1 1 1 2 2 1 1 1 1 1 1 1 1 2 1 1 2 1 1 1 1 1 1 1 1 1 1 1 1 1 1 1 1\n",
      " [371] 1 1 2 1 1 1 1 1 1 1 1 1 2 1 1 1 1 1 1 1 1 1 1 1 1 2 1 1 1 1 1 1 1 1 1 1 1\n",
      " [408] 2 1 1 1 1 1 2 1 1 2 1 1 1 1 1 1 1 1 2 1 1 1 1 1 1 1 1 1 1 1 2 1 1 1 2 1 1\n",
      " [445] 1 1 1 2 1 1 1 1 2 1 1 1 1 1 1 1 1 1 1 1 1 1 1 2 1 2 1 2 1 1 1 1 2 2 1 1 1\n",
      " [482] 1 1 1 1 1 1 1 1 1 2 2 1 2 2 1 1 1 1 1 1 1 1 1 1 2 1 1 2 2 1 1 2 1 1 1 1 1\n",
      " [519] 2 1 1 1 1 1 1 1 1 1 1 2 1 1 1 1 1 1 1 2 1 1 1 2 1 1 2 1 2 2 1 1 1 2 1 2 1\n",
      " [556] 1 1 1 1 1 1 1 1 2 1 1 1 2 1 1 2 1 1 1 1 2 1 2 1 1 1 1 1 1 1 1 1 1 1 1 1 1\n",
      " [593] 1 1 1 1 1 1 1 1 2 1 2 1 1 1 1 1 2 1 2 1 2 1 1 1 1 1 1 1 1 1 1 2 1 1 1 2 1\n",
      " [630] 1 1 1 2 1 1 1 1 1 1 1 1 1 2 1 1 1 1 1 1 2 1 2 1 1 1 1 1 2 1 1 1 2 2 1 1 1\n",
      " [667] 2 1 1 1 2 2 1 1 1 1 1 1 1 1 1 1 2 1 1 1 1 1 1 1 1 1 1 1 1 1 1 1 2 2 2 1 1\n",
      " [704] 1 1 1 1 1 2 1 1 1 1 1 2 1 1 1 1 2 1 1 1 1 1 1 1 1 1 1 1 1 1 1 1 1 1 1 1 2\n",
      " [741] 1 1 1 2 1 1 1 1 1 1 1 1 1 1 1 1 1 1 1 1 1 1 2 1 1 1 1 1 1 1 1 1 1 1 1 1 1\n",
      " [778] 1 1 1 1 1 1 1 1 1 1 1 1 1 1 1 1 1 1 1 2 2 1 1 1 1 1 1 1 1 1 1 2 1 1 1 1 1\n",
      " [815] 2 1 1 2 1 1 1 1 1 1 1 2 1 1 1 1 1 2 1 1 1 1 1 1 1 1 1 1 1 1 1 1 2 1 1 1 1\n",
      " [852] 1 1 1 2 1 1 1 1 1 1 1 1 1 1 1 1 1 1 1 1 1 1 1 1 1 1 1 1 1 1 1 1 2 1 1 1 2\n",
      " [889] 1 1 1 1 2 1 2 1 1 1 1 1 1 1 1 1 1 1 1 1 1 1 1 1 1 1 1 1 2 1 1 1 1 1 1 1 1\n",
      " [926] 1 2 1 1 1 1 1 1 1 1 1 1 1 2 2 1 1 1 2 1 1 1 1 1 1 1 1 1 1 1 2 1 1 1 1 1 2\n",
      " [963] 1 1 1 2 1 1 1 1 1 1 1 1 1 1 1 2 1 1 1 1 1 2 1 1 1 1 1 1 2 1 1 2 1 1 1 1 1\n",
      "[1000] 1 1 1 1 1 1 1 1 1 2 1 1 2 1 1 1 1 1 2 1 1 1 2 1 1 1 2 1 1 1 1 1 1 2 1 1 1\n",
      "[1037] 1 2 1 1 1 1 1 1 1 1 1 1 1 1 1 1 1 1 1 1 2 2 1 1 1 1 2 1 2 1 1 1 1 2 1 1 1\n",
      "[1074] 2 1 1 1 1 1 1 1 1 1 1 1 1 1 1 2 1 1 1 1 2 1 2 1 1 1 1 1 1 1 1 1 2 1 1 1 1\n",
      "[1111] 1 1 1 1 1 1 1 1 2 1 2 1 1 1 1 1 1 1 1 1 1 1 1 1 1 1 1 1 1 2 2 1 2 1 1 1 1\n",
      "[1148] 2 2 2 1 1 1 2 1 1 1 1 1 1 1 1 1 1 1 1 1 1 1 1 1 1 1 1 1 1 1 1 1 1 1 1 2 1\n",
      "[1185] 1 1 2 1 1 1 1 2 1 2 1 1 1 1 1 1 1 1 1 2 1 2 1 2 1 1 1 1 1 1 1 1 1 1 1 2 1\n",
      "[1222] 1 1 2 1 1 2 1 1 1 1 1 1 1 1 1 1 1 1 1 2 2 1 1 1 1 1 1 1 1 2 1 1 1 1 1 1 2\n",
      "[1259] 1 1 1 1 1 2 1 1 1 1 1 1 1 1 1 1 1 1 1 1 2 1 1 1 1 1 1 1 2 2 1 1 1 1 1 1 1\n",
      "[1296] 2 1 1 1 1 2 1 1 1 1 1 1 1 1 1 1 1 1 2 2 1 1 1 1 1 1 1 1 1 1 1 1 1 1 2 1 1\n",
      "[1333] 1 1 1 1 1 1 1 1 1 1 1 1 2 1 1 2 1 1 1 1 1 1 1 1 1 1 1 1 1 1 1 1 1 1 1 2 1\n",
      "[1370] 1 1 1 1 1 1 1 1 1 1 1 1 1 1 1 1 1 1 2 1 1 1 1 1 2 1 2 2 1 1 1 1 1 1 1 2 1\n",
      "[1407] 1 1 1 1 1 2 1 1 2 1 1 1 2 1 1 2 1 1 1 1 2 1 1 1 1 1 1 2 1 1 1 1 1 1 2 1 1\n",
      "[1444] 1 2 2 1 2 1 1 1 1 1 1 1 1 1 1 1 1 1 2 1 1 1 1 1 1 2 2 1 1 1 1 2 1 1 2 1 1\n",
      "[1481] 1 1 1 1 2 1 1 1 2 2 1 1 1 1 1 1 1 1 1 1 1 1 1 1 1 2 1 1 1 1 1 1 2 1 1 1 2\n",
      "[1518] 1 1 1 1 1 1 1 1 1 2 1 1 1 1 1 1 2 1 1 1 1 1 1 1 1 1 1 1 1 1 1 1 1 1 2 1 1\n",
      "[1555] 1 1 1 1\n",
      "\n",
      "Within cluster sum of squares by cluster:\n",
      "[1] 8376.374 6423.792\n",
      " (between_SS / total_SS =  47.2 %)\n",
      "\n",
      "Available components:\n",
      "\n",
      "[1] \"cluster\"      \"centers\"      \"totss\"        \"withinss\"     \"tot.withinss\"\n",
      "[6] \"betweenss\"    \"size\"         \"iter\"         \"ifault\"      \n"
     ]
    }
   ],
   "source": [
    "# Visualizando modelo 1\n",
    "print(model_v1)"
   ]
  },
  {
   "cell_type": "code",
   "execution_count": 41,
   "id": "indonesian-alaska",
   "metadata": {},
   "outputs": [
    {
     "data": {
      "text/html": [
       "<ol class=list-inline>\n",
       "\t<li>1348</li>\n",
       "\t<li>210</li>\n",
       "</ol>\n"
      ],
      "text/latex": [
       "\\begin{enumerate*}\n",
       "\\item 1348\n",
       "\\item 210\n",
       "\\end{enumerate*}\n"
      ],
      "text/markdown": [
       "1. 1348\n",
       "2. 210\n",
       "\n",
       "\n"
      ],
      "text/plain": [
       "[1] 1348  210"
      ]
     },
     "metadata": {},
     "output_type": "display_data"
    }
   ],
   "source": [
    "# Verificando o tamanho dos clusters\n",
    "model_v1$size"
   ]
  },
  {
   "cell_type": "code",
   "execution_count": 42,
   "id": "fatal-correction",
   "metadata": {},
   "outputs": [],
   "source": [
    "# Criando coluna de clusters ao dataset\n",
    "df_cod_v1$Cluster <- model_v1$cluster"
   ]
  },
  {
   "cell_type": "code",
   "execution_count": 43,
   "id": "perfect-james",
   "metadata": {},
   "outputs": [
    {
     "data": {
      "text/html": [
       "<table>\n",
       "<thead><tr><th scope=col>wins</th><th scope=col>kills</th><th scope=col>kdRatio</th><th scope=col>killstreak</th><th scope=col>level</th><th scope=col>losses</th><th scope=col>prestige</th><th scope=col>hits</th><th scope=col>timePlayed</th><th scope=col>headshots</th><th scope=col>averageTime</th><th scope=col>gamesPlayed</th><th scope=col>assists</th><th scope=col>misses</th><th scope=col>xp</th><th scope=col>scorePerMinute</th><th scope=col>shots</th><th scope=col>deaths</th><th scope=col>Cluster</th></tr></thead>\n",
       "<tbody>\n",
       "\t<tr><td>  0      </td><td>    0    </td><td>0.000000 </td><td> 0       </td><td>  1      </td><td> 0       </td><td>  0      </td><td>    0    </td><td>   0     </td><td>   0     </td><td> 0.000000</td><td>  0      </td><td>   0     </td><td>     0   </td><td>      0  </td><td>  0.000  </td><td>     0   </td><td>    0    </td><td>1        </td></tr>\n",
       "\t<tr><td>  0      </td><td>    0    </td><td>0.000000 </td><td> 0       </td><td>  1      </td><td> 0       </td><td>110      </td><td>    0    </td><td>   7     </td><td>   0     </td><td> 7.000000</td><td>  0      </td><td>   0     </td><td>     0   </td><td>    700  </td><td>  0.000  </td><td>     0   </td><td>   16    </td><td>1        </td></tr>\n",
       "\t<tr><td>  0      </td><td>   66    </td><td>1.031250 </td><td> 0       </td><td>  9      </td><td> 0       </td><td>110      </td><td>    0    </td><td>  32     </td><td>  16     </td><td>32.000000</td><td>  0      </td><td>   1     </td><td>     0   </td><td>  48300  </td><td>  0.000  </td><td>     0   </td><td>   64    </td><td>1        </td></tr>\n",
       "\t<tr><td>  3      </td><td>    2    </td><td>0.400000 </td><td> 0       </td><td>  1      </td><td> 0       </td><td>  0      </td><td>    0    </td><td>   3     </td><td>   0     </td><td> 3.000000</td><td>  0      </td><td>   0     </td><td>     0   </td><td>   1150  </td><td>  0.000  </td><td>     0   </td><td>    5    </td><td>1        </td></tr>\n",
       "\t<tr><td>  0      </td><td>    2    </td><td>0.200000 </td><td> 0       </td><td>  1      </td><td> 0       </td><td>110      </td><td>    0    </td><td>   5     </td><td>   1     </td><td> 5.000000</td><td>  0      </td><td>   0     </td><td>     0   </td><td>   1000  </td><td>  0.000  </td><td>     0   </td><td>   10    </td><td>1        </td></tr>\n",
       "\t<tr><td>684      </td><td>27011    </td><td>1.066743 </td><td>18       </td><td>177      </td><td>10       </td><td>110      </td><td>98332    </td><td>1366     </td><td>5113     </td><td> 2.323129</td><td>588      </td><td>6063     </td><td>305319   </td><td>3932335  </td><td>255.672  </td><td>403651   </td><td>25321    </td><td>2        </td></tr>\n",
       "</tbody>\n",
       "</table>\n"
      ],
      "text/latex": [
       "\\begin{tabular}{r|lllllllllllllllllll}\n",
       " wins & kills & kdRatio & killstreak & level & losses & prestige & hits & timePlayed & headshots & averageTime & gamesPlayed & assists & misses & xp & scorePerMinute & shots & deaths & Cluster\\\\\n",
       "\\hline\n",
       "\t   0       &     0     & 0.000000  &  0        &   1       &  0        &   0       &     0     &    0      &    0      &  0.000000 &   0       &    0      &      0    &       0   &   0.000   &      0    &     0     & 1        \\\\\n",
       "\t   0       &     0     & 0.000000  &  0        &   1       &  0        & 110       &     0     &    7      &    0      &  7.000000 &   0       &    0      &      0    &     700   &   0.000   &      0    &    16     & 1        \\\\\n",
       "\t   0       &    66     & 1.031250  &  0        &   9       &  0        & 110       &     0     &   32      &   16      & 32.000000 &   0       &    1      &      0    &   48300   &   0.000   &      0    &    64     & 1        \\\\\n",
       "\t   3       &     2     & 0.400000  &  0        &   1       &  0        &   0       &     0     &    3      &    0      &  3.000000 &   0       &    0      &      0    &    1150   &   0.000   &      0    &     5     & 1        \\\\\n",
       "\t   0       &     2     & 0.200000  &  0        &   1       &  0        & 110       &     0     &    5      &    1      &  5.000000 &   0       &    0      &      0    &    1000   &   0.000   &      0    &    10     & 1        \\\\\n",
       "\t 684       & 27011     & 1.066743  & 18        & 177       & 10        & 110       & 98332     & 1366      & 5113      &  2.323129 & 588       & 6063      & 305319    & 3932335   & 255.672   & 403651    & 25321     & 2        \\\\\n",
       "\\end{tabular}\n"
      ],
      "text/markdown": [
       "\n",
       "| wins | kills | kdRatio | killstreak | level | losses | prestige | hits | timePlayed | headshots | averageTime | gamesPlayed | assists | misses | xp | scorePerMinute | shots | deaths | Cluster |\n",
       "|---|---|---|---|---|---|---|---|---|---|---|---|---|---|---|---|---|---|---|\n",
       "|   0       |     0     | 0.000000  |  0        |   1       |  0        |   0       |     0     |    0      |    0      |  0.000000 |   0       |    0      |      0    |       0   |   0.000   |      0    |     0     | 1         |\n",
       "|   0       |     0     | 0.000000  |  0        |   1       |  0        | 110       |     0     |    7      |    0      |  7.000000 |   0       |    0      |      0    |     700   |   0.000   |      0    |    16     | 1         |\n",
       "|   0       |    66     | 1.031250  |  0        |   9       |  0        | 110       |     0     |   32      |   16      | 32.000000 |   0       |    1      |      0    |   48300   |   0.000   |      0    |    64     | 1         |\n",
       "|   3       |     2     | 0.400000  |  0        |   1       |  0        |   0       |     0     |    3      |    0      |  3.000000 |   0       |    0      |      0    |    1150   |   0.000   |      0    |     5     | 1         |\n",
       "|   0       |     2     | 0.200000  |  0        |   1       |  0        | 110       |     0     |    5      |    1      |  5.000000 |   0       |    0      |      0    |    1000   |   0.000   |      0    |    10     | 1         |\n",
       "| 684       | 27011     | 1.066743  | 18        | 177       | 10        | 110       | 98332     | 1366      | 5113      |  2.323129 | 588       | 6063      | 305319    | 3932335   | 255.672   | 403651    | 25321     | 2         |\n",
       "\n"
      ],
      "text/plain": [
       "  wins kills kdRatio  killstreak level losses prestige hits  timePlayed\n",
       "1   0      0 0.000000  0           1    0       0          0    0      \n",
       "2   0      0 0.000000  0           1    0     110          0    7      \n",
       "3   0     66 1.031250  0           9    0     110          0   32      \n",
       "4   3      2 0.400000  0           1    0       0          0    3      \n",
       "5   0      2 0.200000  0           1    0     110          0    5      \n",
       "6 684  27011 1.066743 18         177   10     110      98332 1366      \n",
       "  headshots averageTime gamesPlayed assists misses xp      scorePerMinute\n",
       "1    0       0.000000     0            0         0       0   0.000       \n",
       "2    0       7.000000     0            0         0     700   0.000       \n",
       "3   16      32.000000     0            1         0   48300   0.000       \n",
       "4    0       3.000000     0            0         0    1150   0.000       \n",
       "5    1       5.000000     0            0         0    1000   0.000       \n",
       "6 5113       2.323129   588         6063    305319 3932335 255.672       \n",
       "  shots  deaths Cluster\n",
       "1      0     0  1      \n",
       "2      0    16  1      \n",
       "3      0    64  1      \n",
       "4      0     5  1      \n",
       "5      0    10  1      \n",
       "6 403651 25321  2      "
      ]
     },
     "metadata": {},
     "output_type": "display_data"
    }
   ],
   "source": [
    "# Visualizando as seis primeiras linhas do dataset\n",
    "head(df_cod_v1)"
   ]
  },
  {
   "cell_type": "code",
   "execution_count": 44,
   "id": "union-router",
   "metadata": {},
   "outputs": [
    {
     "data": {
      "image/png": "[encoded data removed]",
      "text/plain": [
       "Plot with title \"Modelo 1\""
      ]
     },
     "metadata": {},
     "output_type": "display_data"
    }
   ],
   "source": [
    "# Plotando o modelo 1\n",
    "plot(df_cod_v1_scaled, col=model_v1$cluster,pch=15,main=\"Modelo 1\")"
   ]
  },
  {
   "cell_type": "code",
   "execution_count": 45,
   "id": "manual-consideration",
   "metadata": {},
   "outputs": [],
   "source": [
    "# Melhorando a visualização\n",
    "cluster_viz<- eclust(df_cod_v1_scaled, \"kmeans\",\n",
    "                     k=2,nstart=25,graph=F)"
   ]
  },
  {
   "cell_type": "code",
   "execution_count": 46,
   "id": "separated-productivity",
   "metadata": {},
   "outputs": [
    {
     "data": {
      "image/png": "[encoded data removed]",
      "text/plain": [
       "plot without title"
      ]
     },
     "metadata": {},
     "output_type": "display_data"
    }
   ],
   "source": [
    "# Plotando Clusters K-Means\n",
    "fviz_cluster(cluster_viz,geom=\"point\",\n",
    "             ellipse.type=\"norm\", main=\"Modelo 1\")"
   ]
  },
  {
   "cell_type": "markdown",
   "id": "sound-increase",
   "metadata": {},
   "source": [
    "* **MODELO 2**"
   ]
  },
  {
   "cell_type": "markdown",
   "id": "substantial-mobile",
   "metadata": {},
   "source": [
    "* Como o dataset possui informações sobre o comportamento dos jogadores de um game multiplayer, é razoável considerar três categorias de jogadores, a saber: novatos, intermediários e avançados. Assim, iremos estabelecer k=3."
   ]
  },
  {
   "cell_type": "code",
   "execution_count": 47,
   "id": "expensive-processor",
   "metadata": {},
   "outputs": [],
   "source": [
    "# Construindo Modelo 2\n",
    "model_v2<- kmeans(df_cod_v1_scaled,3)"
   ]
  },
  {
   "cell_type": "code",
   "execution_count": 48,
   "id": "specific-ozone",
   "metadata": {},
   "outputs": [
    {
     "name": "stdout",
     "output_type": "stream",
     "text": [
      "K-means clustering with 3 clusters of sizes 326, 100, 1132\n",
      "\n",
      "Cluster means:\n",
      "        wins      kills    kdRatio killstreak      level     losses   prestige\n",
      "1  0.6301171  0.5395821  0.8069612  0.7939590  0.8705595  0.9565408  0.6931453\n",
      "2  2.8485789  3.0977677  0.8913330  1.3672128  2.6071489  1.7345577  0.9369803\n",
      "3 -0.4331061 -0.4290464 -0.3111331 -0.3494275 -0.4810223 -0.4286997 -0.2823882\n",
      "        hits timePlayed  headshots averageTime gamesPlayed    assists\n",
      "1  0.5087581  0.6900254  0.5919133 -0.14504137   0.5393954  0.4782675\n",
      "2  2.9952587  2.7616413  3.0043491 -0.21756426   2.8972507  3.0425330\n",
      "3 -0.4111140 -0.4426788 -0.4358645  0.06098932  -0.4112791 -0.4065093\n",
      "      misses         xp scorePerMinute      shots     deaths\n",
      "1  0.5328485  0.5982308      0.6456547  0.5308729  0.5523293\n",
      "2  3.0113340  2.7886721      0.7838940  3.0230996  3.0707464\n",
      "3 -0.4194718 -0.4186311     -0.2551880 -0.4199422 -0.4303304\n",
      "\n",
      "Clustering vector:\n",
      "   [1] 3 3 3 3 3 2 3 3 2 3 3 3 3 3 3 1 1 2 1 1 3 3 3 3 3 3 1 3 3 3 3 3 3 3 3 3 1\n",
      "  [38] 3 3 1 3 3 3 3 3 3 1 1 3 3 3 3 3 3 3 3 1 1 1 3 3 1 3 1 1 3 3 3 3 3 1 3 3 3\n",
      "  [75] 1 3 1 3 2 1 1 3 3 3 3 2 3 3 3 1 3 3 3 3 3 3 3 3 3 3 3 3 1 3 2 3 1 1 3 3 3\n",
      " [112] 3 3 3 1 3 3 3 3 1 3 1 1 3 3 3 3 3 3 3 1 3 2 3 3 2 3 2 3 3 3 3 3 2 3 3 3 3\n",
      " [149] 1 3 3 3 1 3 3 1 1 3 3 3 3 3 3 3 3 3 3 3 3 1 3 3 3 3 1 3 2 3 3 3 3 3 3 3 3\n",
      " [186] 2 2 3 3 3 3 3 1 3 1 1 3 1 3 3 3 3 3 3 3 1 1 3 3 3 3 3 2 1 3 3 1 3 1 3 3 3\n",
      " [223] 3 3 1 1 3 1 3 3 1 3 1 3 3 2 3 3 1 3 1 1 3 3 3 3 3 3 3 3 3 1 3 1 1 3 3 3 3\n",
      " [260] 3 1 3 3 3 3 3 3 3 3 1 3 3 3 3 1 3 3 1 1 3 3 3 3 3 3 3 1 3 3 3 3 3 3 3 3 3\n",
      " [297] 3 3 3 3 3 3 3 1 3 3 3 1 3 3 3 1 3 3 1 3 2 3 1 3 3 3 3 1 3 3 3 3 3 3 1 1 3\n",
      " [334] 1 1 1 1 3 3 3 2 1 3 3 3 3 3 3 3 3 1 3 3 1 3 3 3 3 3 3 3 3 3 3 3 1 3 3 1 3\n",
      " [371] 3 3 2 3 3 3 3 3 3 3 1 3 1 3 3 3 3 3 3 1 3 3 3 3 3 1 1 3 3 3 3 3 3 3 3 3 3\n",
      " [408] 2 3 3 3 3 3 2 3 3 2 3 3 3 3 3 3 3 3 1 3 3 3 3 1 3 1 3 3 3 3 2 3 3 3 2 3 1\n",
      " [445] 3 1 1 1 3 3 3 3 2 1 1 3 1 3 3 3 3 3 3 1 3 3 3 1 3 2 3 1 3 1 3 3 1 2 1 3 3\n",
      " [482] 3 3 1 3 1 3 3 3 3 1 1 3 1 1 1 3 3 3 3 3 3 3 3 3 2 3 3 1 1 3 3 1 3 1 3 3 3\n",
      " [519] 2 3 3 3 3 3 3 3 3 3 3 1 3 3 3 3 3 3 3 2 3 3 3 1 3 1 1 3 1 1 3 3 3 1 3 1 3\n",
      " [556] 1 1 3 3 3 3 1 3 2 3 1 3 1 3 1 2 3 1 3 3 1 3 2 1 3 1 3 3 3 3 3 1 1 3 3 3 3\n",
      " [593] 3 3 1 1 3 3 1 1 1 3 1 1 3 3 3 3 2 3 1 3 1 3 3 3 3 3 3 3 3 1 1 2 3 1 1 1 3\n",
      " [630] 3 3 3 1 3 3 3 3 3 3 3 3 1 1 1 3 3 3 3 3 1 3 1 3 3 3 3 3 1 3 3 3 2 1 3 3 3\n",
      " [667] 2 3 3 1 2 1 3 3 3 3 1 3 3 3 3 3 1 3 3 3 3 3 3 3 1 3 3 3 3 1 3 1 2 2 2 3 3\n",
      " [704] 3 3 3 1 3 2 3 3 3 3 3 2 1 3 3 3 2 3 1 1 3 3 1 1 3 3 3 3 3 3 3 3 3 3 3 3 1\n",
      " [741] 3 3 3 1 3 3 3 3 3 3 3 1 3 3 3 3 3 3 3 3 3 1 1 3 3 3 3 3 3 3 3 3 3 3 3 3 3\n",
      " [778] 3 3 3 3 3 3 3 3 3 3 3 3 1 3 3 3 3 3 3 2 1 3 1 3 3 3 3 3 3 3 3 1 3 3 3 3 3\n",
      " [815] 1 3 3 1 1 3 3 3 3 1 3 1 1 1 3 3 3 2 3 1 3 3 3 3 3 3 3 3 3 3 1 1 2 1 3 3 3\n",
      " [852] 3 3 3 2 3 3 3 3 3 3 3 3 3 1 3 1 3 3 1 3 3 3 3 1 3 3 3 3 3 3 3 3 1 3 1 3 2\n",
      " [889] 3 3 3 3 1 1 1 3 3 1 1 3 1 3 3 3 3 3 3 3 3 3 3 3 3 1 3 3 2 3 3 1 3 3 3 3 3\n",
      " [926] 3 2 3 1 3 3 1 3 3 3 3 3 3 1 2 3 3 3 2 3 1 3 3 3 3 3 3 3 3 3 1 3 3 3 3 3 1\n",
      " [963] 3 3 3 2 1 3 3 3 1 3 3 3 3 3 3 1 3 1 3 3 1 2 3 1 3 3 1 3 2 3 3 2 3 1 3 3 3\n",
      "[1000] 3 3 3 1 3 3 3 3 3 2 1 3 2 3 3 3 3 3 2 3 3 1 2 3 3 1 1 3 3 3 1 3 3 1 3 3 3\n",
      "[1037] 1 2 3 1 3 3 3 3 3 3 1 3 3 3 3 3 3 3 3 3 1 2 3 3 3 3 1 3 2 3 3 3 3 2 3 1 3\n",
      "[1074] 2 3 3 3 3 3 3 3 3 3 3 3 1 3 3 1 3 1 3 3 2 3 2 3 3 1 3 3 3 3 3 3 1 3 3 1 3\n",
      "[1111] 3 3 1 3 3 3 3 3 2 3 2 3 3 3 3 3 3 3 3 1 3 3 3 3 3 3 3 3 3 2 1 3 1 1 1 3 3\n",
      "[1148] 2 1 1 3 3 3 2 3 3 3 1 3 3 3 3 3 3 3 3 3 3 3 1 3 3 3 1 3 3 3 3 1 1 3 3 2 3\n",
      "[1185] 3 3 1 3 3 3 3 1 3 2 3 3 3 1 3 3 3 1 3 1 3 2 1 2 3 3 3 3 3 3 3 1 3 1 3 1 3\n",
      "[1222] 3 3 1 3 3 2 3 3 3 1 3 1 3 3 3 3 3 3 3 2 1 1 3 3 3 3 3 3 3 1 3 3 3 3 3 3 1\n",
      "[1259] 3 3 3 3 3 2 3 1 3 3 3 3 3 3 3 1 1 3 3 3 1 3 3 3 3 3 3 3 2 2 1 3 3 3 3 3 3\n",
      "[1296] 1 3 1 3 3 1 3 3 3 3 3 3 3 3 3 3 3 3 2 1 3 3 3 3 3 3 3 3 1 3 3 3 3 3 2 3 3\n",
      "[1333] 3 3 3 3 3 3 3 1 3 3 3 3 2 3 1 1 1 3 3 3 3 1 3 3 3 3 3 3 3 3 3 3 3 3 3 1 1\n",
      "[1370] 1 3 3 3 1 3 3 3 3 1 3 3 3 3 3 3 3 3 1 3 3 1 3 1 1 3 2 2 3 3 3 3 3 3 3 1 3\n",
      "[1407] 3 1 3 3 3 1 3 3 2 3 3 3 1 3 3 2 3 3 1 3 2 3 3 1 3 3 3 2 3 1 1 3 3 3 2 3 3\n",
      "[1444] 3 1 1 3 2 3 3 1 3 3 3 3 3 3 3 3 3 3 2 3 1 3 3 3 1 2 1 1 3 3 3 1 1 3 1 3 3\n",
      "[1481] 1 3 3 3 1 3 1 3 2 1 1 3 3 1 3 3 3 1 3 3 1 3 1 3 3 2 3 3 3 3 3 3 1 3 3 1 2\n",
      "[1518] 3 1 3 3 1 3 3 3 3 2 3 1 3 3 1 1 2 3 1 3 1 1 1 3 1 3 3 3 1 3 3 3 3 1 2 3 3\n",
      "[1555] 3 3 3 3\n",
      "\n",
      "Within cluster sum of squares by cluster:\n",
      "[1] 2846.857 3358.793 5248.539\n",
      " (between_SS / total_SS =  59.1 %)\n",
      "\n",
      "Available components:\n",
      "\n",
      "[1] \"cluster\"      \"centers\"      \"totss\"        \"withinss\"     \"tot.withinss\"\n",
      "[6] \"betweenss\"    \"size\"         \"iter\"         \"ifault\"      \n"
     ]
    }
   ],
   "source": [
    "# Visualizando modelo 2\n",
    "print(model_v2)"
   ]
  },
  {
   "cell_type": "code",
   "execution_count": 49,
   "id": "thirty-breathing",
   "metadata": {},
   "outputs": [
    {
     "data": {
      "text/html": [
       "<ol class=list-inline>\n",
       "\t<li>326</li>\n",
       "\t<li>100</li>\n",
       "\t<li>1132</li>\n",
       "</ol>\n"
      ],
      "text/latex": [
       "\\begin{enumerate*}\n",
       "\\item 326\n",
       "\\item 100\n",
       "\\item 1132\n",
       "\\end{enumerate*}\n"
      ],
      "text/markdown": [
       "1. 326\n",
       "2. 100\n",
       "3. 1132\n",
       "\n",
       "\n"
      ],
      "text/plain": [
       "[1]  326  100 1132"
      ]
     },
     "metadata": {},
     "output_type": "display_data"
    }
   ],
   "source": [
    "# Verificando o tamanho dos clusters\n",
    "model_v2$size"
   ]
  },
  {
   "cell_type": "code",
   "execution_count": 50,
   "id": "periodic-audio",
   "metadata": {},
   "outputs": [],
   "source": [
    "# Criando coluna de clusters ao dataset\n",
    "df_cod_v1$Cluster2 <- model_v2$cluster"
   ]
  },
  {
   "cell_type": "code",
   "execution_count": 51,
   "id": "heated-prague",
   "metadata": {},
   "outputs": [
    {
     "data": {
      "text/html": [
       "<table>\n",
       "<thead><tr><th scope=col>wins</th><th scope=col>kills</th><th scope=col>kdRatio</th><th scope=col>killstreak</th><th scope=col>level</th><th scope=col>losses</th><th scope=col>prestige</th><th scope=col>hits</th><th scope=col>timePlayed</th><th scope=col>headshots</th><th scope=col>averageTime</th><th scope=col>gamesPlayed</th><th scope=col>assists</th><th scope=col>misses</th><th scope=col>xp</th><th scope=col>scorePerMinute</th><th scope=col>shots</th><th scope=col>deaths</th><th scope=col>Cluster</th><th scope=col>Cluster2</th></tr></thead>\n",
       "<tbody>\n",
       "\t<tr><td>  0      </td><td>    0    </td><td>0.000000 </td><td> 0       </td><td>  1      </td><td> 0       </td><td>  0      </td><td>    0    </td><td>   0     </td><td>   0     </td><td> 0.000000</td><td>  0      </td><td>   0     </td><td>     0   </td><td>      0  </td><td>  0.000  </td><td>     0   </td><td>    0    </td><td>1        </td><td>3        </td></tr>\n",
       "\t<tr><td>  0      </td><td>    0    </td><td>0.000000 </td><td> 0       </td><td>  1      </td><td> 0       </td><td>110      </td><td>    0    </td><td>   7     </td><td>   0     </td><td> 7.000000</td><td>  0      </td><td>   0     </td><td>     0   </td><td>    700  </td><td>  0.000  </td><td>     0   </td><td>   16    </td><td>1        </td><td>3        </td></tr>\n",
       "\t<tr><td>  0      </td><td>   66    </td><td>1.031250 </td><td> 0       </td><td>  9      </td><td> 0       </td><td>110      </td><td>    0    </td><td>  32     </td><td>  16     </td><td>32.000000</td><td>  0      </td><td>   1     </td><td>     0   </td><td>  48300  </td><td>  0.000  </td><td>     0   </td><td>   64    </td><td>1        </td><td>3        </td></tr>\n",
       "\t<tr><td>  3      </td><td>    2    </td><td>0.400000 </td><td> 0       </td><td>  1      </td><td> 0       </td><td>  0      </td><td>    0    </td><td>   3     </td><td>   0     </td><td> 3.000000</td><td>  0      </td><td>   0     </td><td>     0   </td><td>   1150  </td><td>  0.000  </td><td>     0   </td><td>    5    </td><td>1        </td><td>3        </td></tr>\n",
       "\t<tr><td>  0      </td><td>    2    </td><td>0.200000 </td><td> 0       </td><td>  1      </td><td> 0       </td><td>110      </td><td>    0    </td><td>   5     </td><td>   1     </td><td> 5.000000</td><td>  0      </td><td>   0     </td><td>     0   </td><td>   1000  </td><td>  0.000  </td><td>     0   </td><td>   10    </td><td>1        </td><td>3        </td></tr>\n",
       "\t<tr><td>684      </td><td>27011    </td><td>1.066743 </td><td>18       </td><td>177      </td><td>10       </td><td>110      </td><td>98332    </td><td>1366     </td><td>5113     </td><td> 2.323129</td><td>588      </td><td>6063     </td><td>305319   </td><td>3932335  </td><td>255.672  </td><td>403651   </td><td>25321    </td><td>2        </td><td>2        </td></tr>\n",
       "</tbody>\n",
       "</table>\n"
      ],
      "text/latex": [
       "\\begin{tabular}{r|llllllllllllllllllll}\n",
       " wins & kills & kdRatio & killstreak & level & losses & prestige & hits & timePlayed & headshots & averageTime & gamesPlayed & assists & misses & xp & scorePerMinute & shots & deaths & Cluster & Cluster2\\\\\n",
       "\\hline\n",
       "\t   0       &     0     & 0.000000  &  0        &   1       &  0        &   0       &     0     &    0      &    0      &  0.000000 &   0       &    0      &      0    &       0   &   0.000   &      0    &     0     & 1         & 3        \\\\\n",
       "\t   0       &     0     & 0.000000  &  0        &   1       &  0        & 110       &     0     &    7      &    0      &  7.000000 &   0       &    0      &      0    &     700   &   0.000   &      0    &    16     & 1         & 3        \\\\\n",
       "\t   0       &    66     & 1.031250  &  0        &   9       &  0        & 110       &     0     &   32      &   16      & 32.000000 &   0       &    1      &      0    &   48300   &   0.000   &      0    &    64     & 1         & 3        \\\\\n",
       "\t   3       &     2     & 0.400000  &  0        &   1       &  0        &   0       &     0     &    3      &    0      &  3.000000 &   0       &    0      &      0    &    1150   &   0.000   &      0    &     5     & 1         & 3        \\\\\n",
       "\t   0       &     2     & 0.200000  &  0        &   1       &  0        & 110       &     0     &    5      &    1      &  5.000000 &   0       &    0      &      0    &    1000   &   0.000   &      0    &    10     & 1         & 3        \\\\\n",
       "\t 684       & 27011     & 1.066743  & 18        & 177       & 10        & 110       & 98332     & 1366      & 5113      &  2.323129 & 588       & 6063      & 305319    & 3932335   & 255.672   & 403651    & 25321     & 2         & 2        \\\\\n",
       "\\end{tabular}\n"
      ],
      "text/markdown": [
       "\n",
       "| wins | kills | kdRatio | killstreak | level | losses | prestige | hits | timePlayed | headshots | averageTime | gamesPlayed | assists | misses | xp | scorePerMinute | shots | deaths | Cluster | Cluster2 |\n",
       "|---|---|---|---|---|---|---|---|---|---|---|---|---|---|---|---|---|---|---|---|\n",
       "|   0       |     0     | 0.000000  |  0        |   1       |  0        |   0       |     0     |    0      |    0      |  0.000000 |   0       |    0      |      0    |       0   |   0.000   |      0    |     0     | 1         | 3         |\n",
       "|   0       |     0     | 0.000000  |  0        |   1       |  0        | 110       |     0     |    7      |    0      |  7.000000 |   0       |    0      |      0    |     700   |   0.000   |      0    |    16     | 1         | 3         |\n",
       "|   0       |    66     | 1.031250  |  0        |   9       |  0        | 110       |     0     |   32      |   16      | 32.000000 |   0       |    1      |      0    |   48300   |   0.000   |      0    |    64     | 1         | 3         |\n",
       "|   3       |     2     | 0.400000  |  0        |   1       |  0        |   0       |     0     |    3      |    0      |  3.000000 |   0       |    0      |      0    |    1150   |   0.000   |      0    |     5     | 1         | 3         |\n",
       "|   0       |     2     | 0.200000  |  0        |   1       |  0        | 110       |     0     |    5      |    1      |  5.000000 |   0       |    0      |      0    |    1000   |   0.000   |      0    |    10     | 1         | 3         |\n",
       "| 684       | 27011     | 1.066743  | 18        | 177       | 10        | 110       | 98332     | 1366      | 5113      |  2.323129 | 588       | 6063      | 305319    | 3932335   | 255.672   | 403651    | 25321     | 2         | 2         |\n",
       "\n"
      ],
      "text/plain": [
       "  wins kills kdRatio  killstreak level losses prestige hits  timePlayed\n",
       "1   0      0 0.000000  0           1    0       0          0    0      \n",
       "2   0      0 0.000000  0           1    0     110          0    7      \n",
       "3   0     66 1.031250  0           9    0     110          0   32      \n",
       "4   3      2 0.400000  0           1    0       0          0    3      \n",
       "5   0      2 0.200000  0           1    0     110          0    5      \n",
       "6 684  27011 1.066743 18         177   10     110      98332 1366      \n",
       "  headshots averageTime gamesPlayed assists misses xp      scorePerMinute\n",
       "1    0       0.000000     0            0         0       0   0.000       \n",
       "2    0       7.000000     0            0         0     700   0.000       \n",
       "3   16      32.000000     0            1         0   48300   0.000       \n",
       "4    0       3.000000     0            0         0    1150   0.000       \n",
       "5    1       5.000000     0            0         0    1000   0.000       \n",
       "6 5113       2.323129   588         6063    305319 3932335 255.672       \n",
       "  shots  deaths Cluster Cluster2\n",
       "1      0     0  1       3       \n",
       "2      0    16  1       3       \n",
       "3      0    64  1       3       \n",
       "4      0     5  1       3       \n",
       "5      0    10  1       3       \n",
       "6 403651 25321  2       2       "
      ]
     },
     "metadata": {},
     "output_type": "display_data"
    }
   ],
   "source": [
    "# Visualizar as seis primeiras linhas do dataset\n",
    "head(df_cod_v1)"
   ]
  },
  {
   "cell_type": "code",
   "execution_count": 52,
   "id": "premier-trout",
   "metadata": {},
   "outputs": [
    {
     "data": {
      "image/png": "[encoded data removed]",
      "text/plain": [
       "Plot with title \"Modelo 2\""
      ]
     },
     "metadata": {},
     "output_type": "display_data"
    }
   ],
   "source": [
    "# Plotando modelo 2\n",
    "plot(df_cod_v1_scaled,col=model_v2$cluster,pch=15,main=\"Modelo 2\")"
   ]
  },
  {
   "cell_type": "code",
   "execution_count": 53,
   "id": "loaded-longitude",
   "metadata": {},
   "outputs": [],
   "source": [
    "# Melhorando a visualização\n",
    "cluster_viz <- eclust(df_cod_v1_scaled,\n",
    "                      \"kmeans\", k = 3, nstart = 25, graph = FALSE)"
   ]
  },
  {
   "cell_type": "code",
   "execution_count": 54,
   "id": "complicated-preliminary",
   "metadata": {},
   "outputs": [
    {
     "data": {
      "image/png": "[encoded data removed]",
      "text/plain": [
       "plot without title"
      ]
     },
     "metadata": {},
     "output_type": "display_data"
    }
   ],
   "source": [
    "# Plotando Clusters K-Means\n",
    "fviz_cluster(cluster_viz, geom = \"point\", ellipse.type = \"norm\",main=\"Modelo 2\")"
   ]
  },
  {
   "cell_type": "markdown",
   "id": "electoral-tribune",
   "metadata": {},
   "source": [
    "DIEGO RAMIREZ<br>\n",
    "daarfarias@hotmail.com<br>\n",
    "https://github.com/daarfarias"
   ]
  }
 ],
 "metadata": {
  "kernelspec": {
   "display_name": "R",
   "language": "R",
   "name": "ir"
  },
  "language_info": {
   "codemirror_mode": "r",
   "file_extension": ".r",
   "mimetype": "text/x-r-source",
   "name": "R",
   "pygments_lexer": "r",
   "version": "3.6.1"
  }
 },
 "nbformat": 4,
 "nbformat_minor": 5
}
